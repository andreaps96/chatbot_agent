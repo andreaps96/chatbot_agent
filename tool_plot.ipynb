{
 "cells": [
  {
   "cell_type": "code",
   "execution_count": 1,
   "metadata": {},
   "outputs": [],
   "source": [
    "import openai\n",
    "import pandas as pd\n",
    "import matplotlib.pyplot as plt\n",
    "import seaborn as sns"
   ]
  },
  {
   "cell_type": "code",
   "execution_count": 3,
   "metadata": {},
   "outputs": [],
   "source": [
    "def completa_prompt(prompt):\n",
    "    response = openai.ChatCompletion.create(\n",
    "        model=\"gpt-4\",  # O \"gpt-3.5-turbo\" a seconda del modello usato\n",
    "        messages=[{\"role\": \"user\", \"content\": prompt}]\n",
    "    )\n",
    "    return response['choices'][0]['message']['content']\n",
    "\n",
    "\n",
    "def descrivi_dataframe(df):\n",
    "    \"\"\"\n",
    "    Fornisce una descrizione generale del DataFrame per aiutare l'agent a scegliere un grafico.\n",
    "    \"\"\"\n",
    "    descrizione = f\"\"\"\n",
    "    Ecco alcune informazioni sul DataFrame:\n",
    "    - Colonne e tipi di dati: {df.dtypes.to_dict()}\n",
    "    - Statistiche numeriche: {df.describe().to_dict()}\n",
    "    - Prime righe: {df.head(3).to_dict()}\n",
    "    \"\"\"\n",
    "    return descrizione\n",
    "\n",
    "def genera_grafico_con_agente(df, agente):\n",
    "    \"\"\"\n",
    "    Utilizza un agente (GPT-4) per scegliere il tipo di grafico e generarlo.\n",
    "    \"\"\"\n",
    "    # Descrivi il DataFrame\n",
    "    descrizione_df = descrivi_dataframe(df)\n",
    "\n",
    "    # Prompt per il modello\n",
    "    prompt = f\"\"\"\n",
    "    Ecco una descrizione del DataFrame:\n",
    "    {descrizione_df}\n",
    "    \n",
    "    Scegli il tipo di grafico più adatto per visualizzare i dati e genera il codice Python necessario.\n",
    "    Usa matplotlib o seaborn.\n",
    "    Assicurati che il codice sia autonomamente eseguibile.\n",
    "    \"\"\"\n",
    "    \n",
    "    # Richiedi il codice al modello\n",
    "    risposta = agente.completa(prompt)  # Qui invii il prompt al tuo agente GPT\n",
    "    print(\"Codice generato dall'agent:\\n\", risposta)\n",
    "\n",
    "    # Esegui il codice generato\n",
    "    try:\n",
    "        exec(risposta, globals())  # Esegue il codice nel contesto globale\n",
    "    except Exception as e:\n",
    "        print(f\"Errore durante l'esecuzione del codice generato: {str(e)}\")\n"
   ]
  },
  {
   "cell_type": "code",
   "execution_count": null,
   "metadata": {},
   "outputs": [],
   "source": []
  }
 ],
 "metadata": {
  "kernelspec": {
   "display_name": "rieux",
   "language": "python",
   "name": "python3"
  },
  "language_info": {
   "codemirror_mode": {
    "name": "ipython",
    "version": 3
   },
   "file_extension": ".py",
   "mimetype": "text/x-python",
   "name": "python",
   "nbconvert_exporter": "python",
   "pygments_lexer": "ipython3",
   "version": "3.12.6"
  }
 },
 "nbformat": 4,
 "nbformat_minor": 2
}
