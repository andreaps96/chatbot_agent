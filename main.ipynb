{
 "cells": [
  {
   "cell_type": "code",
   "execution_count": 1,
   "metadata": {},
   "outputs": [],
   "source": [
    "import os\n",
    "from dotenv import load_dotenv\n",
    "from funzioni_albero_2025 import pausa,operazione_ERP,eliminazione_ERP,modifica_ERP,lettura_ERP\n",
    "\n",
    "from langchain_openai import ChatOpenAI\n",
    "from langchain.agents import Tool\n",
    "from langgraph.prebuilt import ToolNode,create_react_agent\n",
    "from langchain_core.prompts import PromptTemplate\n",
    "from langchain.memory import ConversationTokenBufferMemory"
   ]
  },
  {
   "cell_type": "code",
   "execution_count": 2,
   "metadata": {},
   "outputs": [],
   "source": [
    "load_dotenv()\n",
    "api_key = os.getenv(\"openai_key\")"
   ]
  },
  {
   "cell_type": "code",
   "execution_count": 3,
   "metadata": {},
   "outputs": [],
   "source": [
    "llm = ChatOpenAI(\n",
    "    api_key=api_key,\n",
    "    model='gpt-4o',\n",
    "    temperature=0\n",
    ")"
   ]
  },
  {
   "cell_type": "code",
   "execution_count": 4,
   "metadata": {},
   "outputs": [
    {
     "name": "stderr",
     "output_type": "stream",
     "text": [
      "C:\\Users\\andre\\AppData\\Local\\Temp\\ipykernel_19760\\2715650747.py:1: LangChainDeprecationWarning: Please see the migration guide at: https://python.langchain.com/docs/versions/migrating_memory/\n",
      "  memory = ConversationTokenBufferMemory(\n"
     ]
    }
   ],
   "source": [
    "memory = ConversationTokenBufferMemory(\n",
    "    memory_key='chat_history',\n",
    "    return_messages=True,\n",
    "    llm=llm,\n",
    "    max_token_limit=1000\n",
    "    )"
   ]
  },
  {
   "cell_type": "code",
   "execution_count": 5,
   "metadata": {},
   "outputs": [],
   "source": [
    "def query_memory(input_text: str, memory=None):\n",
    "    \"\"\"\n",
    "    Funzione per interpretare le richieste dell'utente relative al contesto.\n",
    "    Ora riceve direttamente l'oggetto memory come parametro.\n",
    "    \"\"\"\n",
    "    if memory is None:\n",
    "        return input_text\n",
    "        \n",
    "    # Carica la chat history dalla memoria\n",
    "    memory_vars = memory.load_memory_variables({})\n",
    "    chat_history = memory_vars.get(\"chat_history\", [])\n",
    "    \n",
    "    template = PromptTemplate.from_template(\n",
    "        \"\"\"\n",
    "        Il tuo compito è RIFORMULARE la richiesta corrente dell'utente in una frase ESEGUIBILE, sostituendo riferimenti vaghi con informazioni specifiche dalla chat history.\n",
    "\n",
    "        NON ANALIZZARE la chat history. NON DESCRIVERE cosa è stato fatto.\n",
    "        INVECE, RIFORMULA la richiesta corrente in una nuova frase completa e autosufficiente.\n",
    "\n",
    "        ESEMPI CORRETTI:\n",
    "        Storia: \"aggiungi due ore al foglio ore di oggi\"\n",
    "        Richiesta: \"cancella l'ultima operazione\"\n",
    "        ✓ Output: \"togli due ore al foglio ore di oggi\"\n",
    "\n",
    "        Storia: \"registra check-in ore 9\"\n",
    "        Richiesta: \"modifica l'orario\"\n",
    "        ✓ Output: \"modifica l'orario del check-in di oggi dalle ore 9\"\n",
    "\n",
    "        ESEMPI ERRATI:\n",
    "        Storia: \"aggiungi due ore al foglio ore\"\n",
    "        Richiesta: \"cancella l'ultima operazione\"\n",
    "        ✓ Output: \"togli due ore al foglio ore\"\n",
    "        ✗ NO: \"L'ultima operazione eseguita è stata l'aggiunta di due ore\"\n",
    "        ✗ NO: \"Si procede a cancellare l'ultima operazione che era...\"\n",
    "\n",
    "        REGOLE:\n",
    "        1. Inizia SEMPRE con un verbo d'azione\n",
    "        2. Includi TUTTI i dettagli specifici dalla chat history\n",
    "        3. La frase deve essere ESEGUIBILE come comando\n",
    "        4. NON usare mai frasi descrittive o analitiche\n",
    "\n",
    "        chat_history: {chat_history}\n",
    "        richiesta corrente: {domanda}\n",
    "\n",
    "        Riformula la richiesta in una singola frase eseguibile:\n",
    "        \"\"\"\n",
    "    )\n",
    "    \n",
    "    chain_memory = template | llm\n",
    "    print(\"memory\")\n",
    "    print(chain_memory.invoke({\"domanda\": input_text, \"chat_history\": chat_history}).content)\n",
    "    \n",
    "    \n",
    "    return chain_memory.invoke({\"domanda\": input_text, \"chat_history\": chat_history}).content"
   ]
  },
  {
   "cell_type": "code",
   "execution_count": 6,
   "metadata": {},
   "outputs": [],
   "source": [
    "tools = [\n",
    "    Tool(\n",
    "        name=\"query_memory\",\n",
    "        func=lambda x: query_memory(x, memory),\n",
    "        description=\"\"\"\n",
    "            Usa questo tool SOLO quando:\n",
    "            - La richiesta contiene riferimenti vaghi (\"quello\", \"questa\", \"precedente\", \"ultima\")\n",
    "            - Serve contestualizzare la richiesta con informazioni dalla chat history\n",
    "            IMPORTANTE: Questo tool RIFORMULA la richiesta in un comando eseguibile\n",
    "            \n",
    "            Esempio INPUT: \"cancella l'ultima operazione\"\n",
    "            Esempio OUTPUT: \"togli 2 ore al foglio ore di oggi\"\n",
    "        \"\"\"\n",
    "    ),\n",
    "    Tool(\n",
    "        name=\"pausa\",\n",
    "        func=pausa,\n",
    "        description=\"\"\"\n",
    "            Usa questo tool SOLO per:\n",
    "            - Registrare check-in o check-out\n",
    "            - Gestire pause pranzo\n",
    "            - Registrare timbrature di entrata/uscita\n",
    "            Non usare per:\n",
    "            - Modificare timbrature esistenti (usa operazione_ERP)\n",
    "            - Altre operazioni non legate a timbrature\n",
    "            \n",
    "            Esempio: \"devo timbrare l'entrata\" -> usa questo tool\n",
    "            Esempio: \"modifica la timbratura di ieri\" -> usa operazione_ERP\n",
    "        \"\"\"\n",
    "    ),\n",
    "    Tool(\n",
    "        name=\"operazione_ERP\",\n",
    "        func=operazione_ERP,\n",
    "        description=\"\"\"\n",
    "            Usa questo tool per:\n",
    "            - Creare nuovi record (richieste ferie, note spese, eventi in calendario ecc.)\n",
    "            - Modificare record esistenti di qualsiasi tipo\n",
    "            - Aggiornare informazioni nel sistema\n",
    "\n",
    "            Non usare per:\n",
    "            - Eliminare record (usa eliminazione_ERP)\n",
    "            - Timbrature semplici (usa pausa)\n",
    "\n",
    "            Esempio: \"voglio prendere ferie lunedì\" -> usa questo tool\n",
    "            Esempio: \"modifica l'importo della nota spese\" -> usa questo tool\n",
    "            Esempio: \"togli due ore al foglio ore\" -> usa questo tool\n",
    "            Esempio: \"crea un evento in calendario ...\" -> usa questo tool\n",
    "        \"\"\"\n",
    "    ),\n",
    "    Tool(\n",
    "        name=\"eliminazione_ERP\",\n",
    "        func=eliminazione_ERP,\n",
    "        description=\"\"\"\n",
    "            Usa questo tool ESCLUSIVAMENTE per:\n",
    "            - Eliminare definitivamente record dal sistema\n",
    "            - Cancellare completamente una richiesta o un documento\n",
    "            Usa SOLO quando l'utente richiede esplicitamente di:\n",
    "            - Cancellare\n",
    "            - Eliminare\n",
    "            - Rimuovere\n",
    "            Non usare mai per:\n",
    "            - Modifiche o aggiornamenti (usa operazione_ERP)\n",
    "            - Disattivazioni temporanee\n",
    "\n",
    "            Esempio: \"elimina la nota spese di ieri\" -> usa questo tool\n",
    "            Esempio: \"rimuovi la richiesta ferie\" -> usa questo tool\n",
    "            Esempio: \"togli un'ora dal foglio ore di oggi\" --> non usare questo tool\n",
    "        \"\"\"\n",
    "    ),\n",
    "    Tool(\n",
    "        name=\"modifica_ERP\",\n",
    "        func=modifica_ERP,\n",
    "        description=\"\"\"\n",
    "            Usa questo tool esclusivamente per modificare i record del db \n",
    "            Usa SOLO quando l'utente richiede esplicitamente di:\n",
    "            - Modificare\n",
    "            - Cambiare\n",
    "            - Spostare\n",
    "\n",
    "            Esempio: \"sposta la riunione di oggi a domani\" -> usa questo tool\n",
    "            Esempio: \"cambia la data del meeting..\" -> usa questo tool\n",
    "            Esempio: \"Elimina il meeting di oggi\" -> non usare questo tool\n",
    "        \"\"\"\n",
    "    ),\n",
    "    Tool(\n",
    "        name='lettura_ERP',\n",
    "        func=lettura_ERP,\n",
    "        description=\"\"\" \n",
    "            Usa questo tool esclusivamente per leggere e riportare record dal db\n",
    "            Usa SOLO quando l'utente chiede esplicitamente di:\n",
    "            - Leggere\n",
    "            - Mostrare\n",
    "            - Riportare\n",
    "\n",
    "            Esempio: \"leggimi il foglio ore di oggi\" -> usa questo tool\n",
    "            Esempio: \"mostrami gli eventi in calendario per questa settimana\" -> usa questo tool\n",
    "        \"\"\"\n",
    "    )\n",
    "]\n",
    "\n",
    "tool_node = ToolNode(tools)\n",
    "\n",
    "agent = create_react_agent(\n",
    "    model=llm,\n",
    "    tools=tool_node,\n",
    "    store=memory\n",
    ")"
   ]
  },
  {
   "cell_type": "code",
   "execution_count": 7,
   "metadata": {},
   "outputs": [],
   "source": [
    "def invoke_agent(agent, user_input: dict, memory):\n",
    "    \"\"\"\n",
    "    Invoca l'agente con la gestione corretta della memoria.\n",
    "    \"\"\"\n",
    "    # Estrae il messaggio dell'utente\n",
    "    user_message = user_input.get(\"messages\", [])[-1][1] if user_input.get(\"messages\") else \"\"\n",
    "    \n",
    "    \n",
    "    # Prepara l'input per l'agent\n",
    "    agent_input = {\n",
    "        \"messages\": [{\"role\": \"user\", \"content\": user_message}]\n",
    "    }\n",
    "    \n",
    "    # Invoca l'agent\n",
    "    response = agent.invoke(agent_input)\n",
    "    \n",
    "    # Aggiorna la memoria con la nuova interazione\n",
    "    memory.save_context(\n",
    "        {\"input\": user_message},\n",
    "        {\"output\": response.get(\"output\", \"\")}\n",
    "    )\n",
    "    \n",
    "    return response"
   ]
  },
  {
   "cell_type": "code",
   "execution_count": 11,
   "metadata": {},
   "outputs": [],
   "source": [
    "inputs = {\n",
    "        \"messages\": [(\"user\", \"leggimi il foglio ore di questa settimana\")]\n",
    "    }\n",
    "    \n",
    "risposta = invoke_agent(agent,inputs,memory)"
   ]
  },
  {
   "cell_type": "code",
   "execution_count": 12,
   "metadata": {},
   "outputs": [
    {
     "name": "stdout",
     "output_type": "stream",
     "text": [
      "Ecco il foglio ore di questa settimana:\n",
      "\n",
      "- **9 Gennaio 2025:**\n",
      "  - Progetto: FIG-JAVA - S00108 - Servizi di consulenza specialistica [Proj+task]: 1.0 ore\n",
      "  - Progetto: ODOO CHATBOT: 10.0 ore\n",
      "\n",
      "- **8 Gennaio 2025:**\n",
      "  - Progetto: ODOO CHATBOT: 1.0 ore (con alcune ore negative registrate)\n",
      "\n",
      "- **7 Gennaio 2025:**\n",
      "  - Progetto: ODOO CHATBOT: 0.0 ore (con alcune ore negative registrate)\n",
      "\n",
      "- **6 Gennaio 2025:**\n",
      "  - Progetto: Internal: 8.0 ore\n",
      "\n",
      "Se hai bisogno di ulteriori dettagli o chiarimenti, fammi sapere!\n"
     ]
    }
   ],
   "source": [
    "print(risposta['messages'][-1].content)"
   ]
  },
  {
   "cell_type": "code",
   "execution_count": 13,
   "metadata": {},
   "outputs": [
    {
     "data": {
      "text/plain": [
       "{'messages': [HumanMessage(content='leggimi il foglio ore di questa settimana', additional_kwargs={}, response_metadata={}, id='31d3216b-ee33-4188-9cea-4c74005feabd'),\n",
       "  AIMessage(content='', additional_kwargs={'tool_calls': [{'id': 'call_s3xBrU0NIxauUo5nZsQPpRMJ', 'function': {'arguments': '{\"__arg1\":\"foglio ore di questa settimana\"}', 'name': 'lettura_ERP'}, 'type': 'function'}], 'refusal': None}, response_metadata={'token_usage': {'completion_tokens': 25, 'prompt_tokens': 858, 'total_tokens': 883, 'completion_tokens_details': {'accepted_prediction_tokens': 0, 'audio_tokens': 0, 'reasoning_tokens': 0, 'rejected_prediction_tokens': 0}, 'prompt_tokens_details': {'audio_tokens': 0, 'cached_tokens': 0}}, 'model_name': 'gpt-4o-2024-08-06', 'system_fingerprint': 'fp_b7d65f1a5b', 'finish_reason': 'tool_calls', 'logprobs': None}, id='run-1a60f952-ead1-418e-97d0-b742c7d52bf8-0', tool_calls=[{'name': 'lettura_ERP', 'args': {'__arg1': 'foglio ore di questa settimana'}, 'id': 'call_s3xBrU0NIxauUo5nZsQPpRMJ', 'type': 'tool_call'}], usage_metadata={'input_tokens': 858, 'output_tokens': 25, 'total_tokens': 883, 'input_token_details': {'audio': 0, 'cache_read': 0}, 'output_token_details': {'audio': 0, 'reasoning': 0}}),\n",
       "  ToolMessage(content='                                                               project_id  unit_amount       date\\n[78, FIG-JAVA - S00108 - Servizi di consulenza specialistica [Proj+task]]          1.0 2025-01-09\\n                                                       [91, ODOO CHATBOT]          3.0 2025-01-09\\n                                                       [91, ODOO CHATBOT]          1.0 2025-01-09\\n                                                       [91, ODOO CHATBOT]          1.0 2025-01-09\\n                                                       [91, ODOO CHATBOT]          1.0 2025-01-09\\n                                                       [91, ODOO CHATBOT]          1.0 2025-01-09\\n                                                       [91, ODOO CHATBOT]          1.0 2025-01-09\\n                                                       [91, ODOO CHATBOT]          1.0 2025-01-09\\n                                                       [91, ODOO CHATBOT]          1.0 2025-01-09\\n                                                       [91, ODOO CHATBOT]          1.0 2025-01-09\\n                                                       [91, ODOO CHATBOT]          1.0 2025-01-09\\n                                                       [91, ODOO CHATBOT]          1.0 2025-01-09\\n                                                       [91, ODOO CHATBOT]          1.0 2025-01-09\\n                                                       [91, ODOO CHATBOT]          1.0 2025-01-09\\n                                                       [91, ODOO CHATBOT]          1.0 2025-01-09\\n                                                       [91, ODOO CHATBOT]          1.0 2025-01-09\\n                                                       [91, ODOO CHATBOT]         -2.0 2025-01-08\\n                                                       [91, ODOO CHATBOT]         -1.0 2025-01-08\\n                                                       [91, ODOO CHATBOT]          2.0 2025-01-08\\n                                                       [91, ODOO CHATBOT]         -4.0 2025-01-07\\n                                                       [91, ODOO CHATBOT]          1.0 2025-01-07\\n                                                       [91, ODOO CHATBOT]          1.0 2025-01-07\\n                                                       [91, ODOO CHATBOT]          1.0 2025-01-07\\n                                                       [91, ODOO CHATBOT]          1.0 2025-01-07\\n                                                            [1, Internal]          8.0 2025-01-06', name='lettura_ERP', id='fd7aaf1e-cc48-4584-b144-0819f29cb9e1', tool_call_id='call_s3xBrU0NIxauUo5nZsQPpRMJ'),\n",
       "  AIMessage(content='Ecco il foglio ore di questa settimana:\\n\\n- **9 Gennaio 2025:**\\n  - Progetto: FIG-JAVA - S00108 - Servizi di consulenza specialistica [Proj+task]: 1.0 ore\\n  - Progetto: ODOO CHATBOT: 10.0 ore\\n\\n- **8 Gennaio 2025:**\\n  - Progetto: ODOO CHATBOT: 1.0 ore (con alcune ore negative registrate)\\n\\n- **7 Gennaio 2025:**\\n  - Progetto: ODOO CHATBOT: 0.0 ore (con alcune ore negative registrate)\\n\\n- **6 Gennaio 2025:**\\n  - Progetto: Internal: 8.0 ore\\n\\nSe hai bisogno di ulteriori dettagli o chiarimenti, fammi sapere!', additional_kwargs={'refusal': None}, response_metadata={'token_usage': {'completion_tokens': 176, 'prompt_tokens': 1484, 'total_tokens': 1660, 'completion_tokens_details': {'accepted_prediction_tokens': 0, 'audio_tokens': 0, 'reasoning_tokens': 0, 'rejected_prediction_tokens': 0}, 'prompt_tokens_details': {'audio_tokens': 0, 'cached_tokens': 0}}, 'model_name': 'gpt-4o-2024-08-06', 'system_fingerprint': 'fp_b7d65f1a5b', 'finish_reason': 'stop', 'logprobs': None}, id='run-76294a1e-2006-403a-bda0-379b03468e6c-0', usage_metadata={'input_tokens': 1484, 'output_tokens': 176, 'total_tokens': 1660, 'input_token_details': {'audio': 0, 'cache_read': 0}, 'output_token_details': {'audio': 0, 'reasoning': 0}})]}"
      ]
     },
     "execution_count": 13,
     "metadata": {},
     "output_type": "execute_result"
    }
   ],
   "source": [
    "risposta"
   ]
  },
  {
   "cell_type": "code",
   "execution_count": null,
   "metadata": {},
   "outputs": [],
   "source": [
    "inputs = {\n",
    "        \"messages\": [(\"user\", \"elimina l'ultima operazione\")]\n",
    "    }\n",
    "    \n",
    "risposta = invoke_agent(agent,inputs,memory)"
   ]
  },
  {
   "cell_type": "code",
   "execution_count": null,
   "metadata": {},
   "outputs": [],
   "source": [
    "print(risposta['messages'][-1].content)"
   ]
  },
  {
   "cell_type": "code",
   "execution_count": null,
   "metadata": {},
   "outputs": [],
   "source": [
    "risposta"
   ]
  },
  {
   "cell_type": "code",
   "execution_count": null,
   "metadata": {},
   "outputs": [],
   "source": [
    "memory.load_memory_variables({})"
   ]
  }
 ],
 "metadata": {
  "kernelspec": {
   "display_name": "rieux",
   "language": "python",
   "name": "python3"
  },
  "language_info": {
   "codemirror_mode": {
    "name": "ipython",
    "version": 3
   },
   "file_extension": ".py",
   "mimetype": "text/x-python",
   "name": "python",
   "nbconvert_exporter": "python",
   "pygments_lexer": "ipython3",
   "version": "3.12.6"
  }
 },
 "nbformat": 4,
 "nbformat_minor": 2
}
