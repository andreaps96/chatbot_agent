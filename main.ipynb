{
 "cells": [
  {
   "cell_type": "code",
   "execution_count": 13,
   "metadata": {},
   "outputs": [
    {
     "name": "stdout",
     "output_type": "stream",
     "text": [
      "('ODOO CHATBOT', 91)\n"
     ]
    }
   ],
   "source": [
    "import os\n",
    "from dotenv import load_dotenv\n",
    "from funzioni_albero_2025 import pausa,operazione_ERP,eliminazione_ERP,modifica_ERP,read_ERP, aes_decrypt,key,iv,fn_ricerca_ERP\n",
    "\n",
    "from langchain_openai import ChatOpenAI\n",
    "from langchain.agents import Tool\n",
    "from langgraph.prebuilt import ToolNode,create_react_agent\n",
    "from langchain_core.prompts import PromptTemplate\n",
    "from langchain.memory import ConversationTokenBufferMemory\n",
    "import ast"
   ]
  },
  {
   "cell_type": "code",
   "execution_count": 14,
   "metadata": {},
   "outputs": [],
   "source": [
    "load_dotenv()\n",
    "api_key = os.getenv(\"openai_key\")"
   ]
  },
  {
   "cell_type": "code",
   "execution_count": 15,
   "metadata": {},
   "outputs": [],
   "source": [
    "llm = ChatOpenAI(\n",
    "    api_key=api_key,\n",
    "    model='gpt-4o',\n",
    "    temperature=0\n",
    ")"
   ]
  },
  {
   "cell_type": "code",
   "execution_count": 16,
   "metadata": {},
   "outputs": [
    {
     "name": "stderr",
     "output_type": "stream",
     "text": [
      "C:\\Users\\andre\\AppData\\Local\\Temp\\ipykernel_23464\\2715650747.py:1: LangChainDeprecationWarning: Please see the migration guide at: https://python.langchain.com/docs/versions/migrating_memory/\n",
      "  memory = ConversationTokenBufferMemory(\n"
     ]
    }
   ],
   "source": [
    "memory = ConversationTokenBufferMemory(\n",
    "    memory_key='chat_history',\n",
    "    return_messages=True,\n",
    "    llm=llm,\n",
    "    max_token_limit=1000\n",
    "    )"
   ]
  },
  {
   "cell_type": "code",
   "execution_count": 17,
   "metadata": {},
   "outputs": [],
   "source": [
    "def query_memory(input_text: str, memory=None):\n",
    "    \"\"\"\n",
    "    Funzione per interpretare le richieste dell'utente relative al contesto.\n",
    "    Ora riceve direttamente l'oggetto memory come parametro.\n",
    "    \"\"\"\n",
    "    if memory is None:\n",
    "        return input_text\n",
    "        \n",
    "    # Carica la chat history dalla memoria\n",
    "    memory_vars = memory.load_memory_variables({})\n",
    "    chat_history = memory_vars.get(\"chat_history\", [])\n",
    "    \n",
    "    template = PromptTemplate.from_template(\n",
    "        \"\"\"\n",
    "        Il tuo compito è RIFORMULARE la richiesta corrente dell'utente in una frase ESEGUIBILE, sostituendo riferimenti vaghi con informazioni specifiche dalla chat history.\n",
    "\n",
    "        NON ANALIZZARE la chat history. NON DESCRIVERE cosa è stato fatto.\n",
    "        INVECE, RIFORMULA la richiesta corrente in una nuova frase completa e autosufficiente.\n",
    "\n",
    "        ESEMPI CORRETTI:\n",
    "        Storia: \"aggiungi due ore al foglio ore di oggi\"\n",
    "        Richiesta: \"cancella l'ultima operazione\"\n",
    "        ✓ Output: \"togli due ore al foglio ore di oggi\"\n",
    "\n",
    "        Storia: \"registra check-in ore 9\"\n",
    "        Richiesta: \"modifica l'orario\"\n",
    "        ✓ Output: \"modifica l'orario del check-in di oggi dalle ore 9\"\n",
    "\n",
    "        ESEMPI ERRATI:\n",
    "        Storia: \"aggiungi due ore al foglio ore\"\n",
    "        Richiesta: \"cancella l'ultima operazione\"\n",
    "        ✓ Output: \"togli due ore al foglio ore\"\n",
    "        ✗ NO: \"L'ultima operazione eseguita è stata l'aggiunta di due ore\"\n",
    "        ✗ NO: \"Si procede a cancellare l'ultima operazione che era...\"\n",
    "\n",
    "        REGOLE:\n",
    "        1. Inizia SEMPRE con un verbo d'azione\n",
    "        2. Includi TUTTI i dettagli specifici dalla chat history\n",
    "        3. La frase deve essere ESEGUIBILE come comando\n",
    "        4. NON usare mai frasi descrittive o analitiche\n",
    "\n",
    "        chat_history: {chat_history}\n",
    "        richiesta corrente: {domanda}\n",
    "\n",
    "        Riformula la richiesta in una singola frase eseguibile:\n",
    "        \"\"\"\n",
    "    )\n",
    "    \n",
    "    chain_memory = template | llm\n",
    "    print(\"memory\")\n",
    "    #print(chain_memory.invoke({\"domanda\": input_text, \"chat_history\": chat_history}).content)\n",
    "    \n",
    "\n",
    "    return chain_memory.invoke({\"domanda\": input_text, \"chat_history\": chat_history}).content"
   ]
  },
  {
   "cell_type": "code",
   "execution_count": 18,
   "metadata": {},
   "outputs": [],
   "source": [
    "tools = [\n",
    "    Tool(\n",
    "        name=\"query_memory\",\n",
    "        func=lambda x: query_memory(x, memory),\n",
    "        description=\"\"\"\n",
    "            Usa questo tool SOLO quando:\n",
    "            - La richiesta contiene riferimenti vaghi (\"quello\", \"questa\", \"precedente\", \"ultima\")\n",
    "            - Serve contestualizzare la richiesta con informazioni dalla chat history\n",
    "            IMPORTANTE: Questo tool RIFORMULA la richiesta in un comando eseguibile\n",
    "            \n",
    "            Esempio INPUT: \"cancella l'ultima operazione\"\n",
    "            Esempio OUTPUT: \"togli 2 ore al foglio ore di oggi\"\n",
    "        \"\"\"\n",
    "    ),\n",
    "    Tool(\n",
    "        name=\"pausa\",\n",
    "        func=pausa,\n",
    "        description=\"\"\"\n",
    "            Usa questo tool SOLO per:\n",
    "            - Registrare check-in o check-out\n",
    "            - Gestire pause pranzo\n",
    "            - Registrare timbrature di entrata/uscita\n",
    "            Non usare per:\n",
    "            - Modificare timbrature esistenti (usa operazione_ERP)\n",
    "            - Altre operazioni non legate a timbrature\n",
    "            \n",
    "            Esempio: \"devo timbrare l'entrata\" -> usa questo tool\n",
    "            Esempio: \"modifica la timbratura di ieri\" -> usa operazione_ERP\n",
    "        \"\"\"\n",
    "    ),\n",
    "    Tool(\n",
    "        name=\"operazione_ERP\",\n",
    "        func=operazione_ERP,\n",
    "        description=\"\"\"\n",
    "            Usa questo tool per:\n",
    "            - Creare nuovi record (richieste ferie, note spese, eventi in calendario ecc.)\n",
    "            - Modificare record esistenti di qualsiasi tipo\n",
    "            - Aggiornare informazioni nel sistema\n",
    "\n",
    "            Non usare per:\n",
    "            - Eliminare record (usa eliminazione_ERP)\n",
    "            - Timbrature semplici (usa pausa)\n",
    "\n",
    "            Esempio: \"voglio prendere ferie lunedì\" -> usa questo tool\n",
    "            Esempio: \"modifica l'importo della nota spese\" -> usa questo tool\n",
    "            Esempio: \"togli due ore al foglio ore\" -> usa questo tool\n",
    "            Esempio: \"crea un evento in calendario ...\" -> usa questo tool\n",
    "        \"\"\"\n",
    "    ),\n",
    "    Tool(\n",
    "        name=\"eliminazione_ERP\",\n",
    "        func=eliminazione_ERP,\n",
    "        description=\"\"\"\n",
    "            Usa questo tool ESCLUSIVAMENTE per:\n",
    "            - Eliminare definitivamente record dal sistema\n",
    "            - Cancellare completamente una richiesta o un documento\n",
    "            Usa SOLO quando l'utente richiede esplicitamente di:\n",
    "            - Cancellare\n",
    "            - Eliminare\n",
    "            - Rimuovere\n",
    "            Non usare mai per:\n",
    "            - Modifiche o aggiornamenti (usa operazione_ERP)\n",
    "            - Disattivazioni temporanee\n",
    "\n",
    "            Esempio: \"elimina la nota spese di ieri\" -> usa questo tool\n",
    "            Esempio: \"rimuovi la richiesta ferie\" -> usa questo tool\n",
    "            Esempio: \"togli un'ora dal foglio ore di oggi\" --> non usare questo tool\n",
    "        \"\"\"\n",
    "    ),\n",
    "    Tool(\n",
    "        name=\"modifica_ERP\",\n",
    "        func=modifica_ERP,\n",
    "        description=\"\"\"\n",
    "            Usa questo tool esclusivamente per modificare i record del db \n",
    "            Usa SOLO quando l'utente richiede esplicitamente di:\n",
    "            - Modificare\n",
    "            - Cambiare\n",
    "            - Spostare\n",
    "\n",
    "            NOTA BENE: capisci quando usare questa funzione al posto di operazione_ERP; operazione_ERP serve per creare un record, modifica_ERP per modificare\n",
    "            un record preesistente\n",
    "            \n",
    "            Esempio: \"sposta la riunione di oggi a domani\" -> usa questo tool\n",
    "            Esempio: \"cambia la data del meeting..\" -> usa questo tool\n",
    "            Esempio: \"Elimina il meeting di oggi\" -> non usare questo tool\n",
    "        \"\"\"\n",
    "    ),\n",
    "    Tool(\n",
    "    name='read_ERP',\n",
    "    func=read_ERP,\n",
    "    description=\"\"\" \n",
    "        Usa questo tool esclusivamente per leggere e riportare record dal db.\n",
    "        Usa SOLO quando l'utente chiede esplicitamente di:\n",
    "        - Leggere\n",
    "        - Mostrare\n",
    "        - Riportare\n",
    "\n",
    "        Se usi questa funzione poi dovrai usare anche la funzione 'plot'\n",
    "        Esempio: \"leggimi il foglio ore di oggi\" -> usa questo tool\n",
    "        Esempio: \"mostrami gli eventi in calendario per questa settimana\" -> usa questo tool\n",
    "    \"\"\"\n",
    ")]\n",
    "\n",
    "tool_node = ToolNode(tools)\n",
    "\n",
    "agent = create_react_agent(\n",
    "    model=llm,\n",
    "    tools=tool_node,\n",
    "    store=memory\n",
    ")"
   ]
  },
  {
   "cell_type": "code",
   "execution_count": 19,
   "metadata": {},
   "outputs": [],
   "source": [
    "def invoke_agent(agent, user_input: dict, memory):\n",
    "    \"\"\"\n",
    "    Invoca l'agente con la gestione corretta della memoria.\n",
    "    \"\"\"\n",
    "    # Estrae il messaggio dell'utente\n",
    "    user_message = user_input.get(\"messages\", [])[-1][1] if user_input.get(\"messages\") else \"\"\n",
    "    \n",
    "    \n",
    "    # Prepara l'input per l'agent\n",
    "    agent_input = {\n",
    "        \"messages\": [{\"role\": \"user\", \"content\": user_message}]\n",
    "    }\n",
    "    \n",
    "    # Invoca l'agent\n",
    "    response = agent.invoke(agent_input)\n",
    "    \n",
    "    # Aggiorna la memoria con la nuova interazione\n",
    "    memory.save_context(\n",
    "        {\"input\": user_message},\n",
    "        {\"output\": response.get(\"output\", \"\")}\n",
    "    )\n",
    "\n",
    "    \n",
    "    return response"
   ]
  },
  {
   "cell_type": "code",
   "execution_count": 24,
   "metadata": {},
   "outputs": [
    {
     "name": "stderr",
     "output_type": "stream",
     "text": [
      "c:\\Users\\andre\\Desktop\\chatbot_2025\\plot.py:55: FutureWarning: Passing literal json to 'read_json' is deprecated and will be removed in a future version. To read from a literal string, wrap it in a 'StringIO' object.\n",
      "  df = pd.read_json(df)\n"
     ]
    },
    {
     "name": "stdout",
     "output_type": "stream",
     "text": [
      "Input trasformato con successo in un DataFrame Pandas.\n",
      "Input trasformato con successo in un DataFrame Pandas.\n"
     ]
    },
    {
     "data": {
      "image/png": "[encoded data removed]",
      "text/plain": [
       "<Figure size 1000x600 with 1 Axes>"
      ]
     },
     "metadata": {},
     "output_type": "display_data"
    },
    {
     "name": "stdout",
     "output_type": "stream",
     "text": [
      "Si è verificato un errore durante la modifica del foglio ore. Sembra che ci sia un problema con l'identificazione del progetto \"ODOO CHATBOT\". Potrebbe essere necessario verificare che il nome del progetto sia corretto o che esista nel sistema. Vuoi che provi a fare qualcos'altro?\n"
     ]
    }
   ],
   "source": [
    "inputs = {\n",
    "            \"messages\": [(\"user\", \"modifica il foglio ore di oggi, ho lavorato 3 ore al progetto ODOO CHATBOT\")]\n",
    "    }\n",
    "risposta = invoke_agent(agent,inputs,memory)\n",
    "\n",
    "print(risposta['messages'][-1].content) "
   ]
  },
  {
   "cell_type": "code",
   "execution_count": 9,
   "metadata": {},
   "outputs": [
    {
     "data": {
      "text/plain": [
       "ToolMessage(content='[\"Errore durante la modifica del record: {\\'code\\': 200, \\'message\\': \\'Odoo Server Error\\', \\'data\\': {\\'name\\': \\'psycopg2.errors.InvalidTextRepresentation\\', \\'debug\\': \\'Traceback (most recent call last):\\\\\\\\n  File \\\\\"/home/odoo/src/odoo/odoo/http.py\\\\\", line 1783, in _serve_db\\\\\\\\n    return service_model.retrying(self._serve_ir_http, self.env)\\\\\\\\n  File \\\\\"/home/odoo/src/odoo/odoo/service/model.py\\\\\", line 133, in retrying\\\\\\\\n    result = func()\\\\\\\\n  File \\\\\"/home/odoo/src/odoo/odoo/http.py\\\\\", line 1810, in _serve_ir_http\\\\\\\\n    response = self.dispatcher.dispatch(rule.endpoint, args)\\\\\\\\n  File \\\\\"/home/odoo/src/odoo/odoo/http.py\\\\\", line 2014, in dispatch\\\\\\\\n    result = self.request.registry[\\\\\\\\\\'ir.http\\\\\\\\\\']._dispatch(endpoint)\\\\\\\\n  File \\\\\"/home/odoo/src/odoo/addons/website/models/ir_http.py\\\\\", line 235, in _dispatch\\\\\\\\n    response = super()._dispatch(endpoint)\\\\\\\\n  File \\\\\"/home/odoo/src/odoo/odoo/addons/base/models/ir_http.py\\\\\", line 221, in _dispatch\\\\\\\\n    result = endpoint(**request.params)\\\\\\\\n  File \\\\\"/home/odoo/src/odoo/odoo/http.py\\\\\", line 757, in route_wrapper\\\\\\\\n    result = endpoint(self, *args, **params_ok)\\\\\\\\n  File \\\\\"/home/odoo/src/odoo/addons/web/controllers/dataset.py\\\\\", line 24, in call_kw\\\\\\\\n    return self._call_kw(model, method, args, kwargs)\\\\\\\\n  File \\\\\"/home/odoo/src/odoo/addons/web/controllers/dataset.py\\\\\", line 20, in _call_kw\\\\\\\\n    return call_kw(request.env[model], method, args, kwargs)\\\\\\\\n  File \\\\\"/home/odoo/src/odoo/odoo/api.py\\\\\", line 468, in call_kw\\\\\\\\n    result = _call_kw_multi(method, model, args, kwargs)\\\\\\\\n  File \\\\\"/home/odoo/src/odoo/odoo/api.py\\\\\", line 453, in _call_kw_multi\\\\\\\\n    result = method(recs, *args, **kwargs)\\\\\\\\n  File \\\\\"/home/odoo/src/enterprise/project_timesheet_forecast_sale/models/analytic_account_line.py\\\\\", line 10, in write\\\\\\\\n    res = super().write(vals)\\\\\\\\n  File \\\\\"/home/odoo/src/odoo/addons/hr_timesheet/models/hr_timesheet.py\\\\\", line 240, in write\\\\\\\\n    values = self._timesheet_preprocess([values])[0]\\\\\\\\n  File \\\\\"/home/odoo/src/enterprise/helpdesk_timesheet/models/analytic.py\\\\\", line 72, in _timesheet_preprocess\\\\\\\\n    return super(AccountAnalyticLine, self)._timesheet_preprocess(vals_list)\\\\\\\\n  File \\\\\"/home/odoo/src/odoo/addons/hr_timesheet/models/hr_timesheet.py\\\\\", line 359, in _timesheet_preprocess\\\\\\\\n    account_ids = account_ids.union(projects.analytic_account_id.ids)\\\\\\\\n  File \\\\\"/home/odoo/src/odoo/odoo/fields.py\\\\\", line 2909, in __get__\\\\\\\\n    return super().__get__(records, owner)\\\\\\\\n  File \\\\\"/home/odoo/src/odoo/odoo/fields.py\\\\\", line 1182, in __get__\\\\\\\\n    recs._fetch_field(self)\\\\\\\\n  File \\\\\"/home/odoo/src/odoo/odoo/models.py\\\\\", line 3815, in _fetch_field\\\\\\\\n    self.fetch(fnames)\\\\\\\\n  File \\\\\"/home/odoo/src/odoo/odoo/models.py\\\\\", line 3865, in fetch\\\\\\\\n    fetched = self._fetch_query(query, fields_to_fetch)\\\\\\\\n  File \\\\\"/home/odoo/src/odoo/odoo/models.py\\\\\", line 3957, in _fetch_query\\\\\\\\n    self.env.cr.execute(query.select(*sql_terms))\\\\\\\\n  File \\\\\"/home/odoo/src/odoo/odoo/sql_db.py\\\\\", line 332, in execute\\\\\\\\n    res = self._obj.execute(query, params)\\\\\\\\npsycopg2.errors.InvalidTextRepresentation: invalid input syntax for type integer: \\\\\"ODOO CHATBOT\\\\\"\\\\\\\\nLINE 1: ...roject_project\\\\\" WHERE (\\\\\"project_project\\\\\".\\\\\"id\\\\\" IN (\\\\\\\\\\'ODOO CHAT...\\\\\\\\n                                                             ^\\\\\\\\n\\\\\\\\n\\', \\'message\\': \\'invalid input syntax for type integer: \\\\\"ODOO CHATBOT\\\\\"\\\\\\\\nLINE 1: ...roject_project\\\\\" WHERE (\\\\\"project_project\\\\\".\\\\\"id\\\\\" IN (\\\\\\\\\\'ODOO CHAT...\\\\\\\\n                                                             ^\\\\\\\\n\\', \\'arguments\\': [\\'invalid input syntax for type integer: \\\\\"ODOO CHATBOT\\\\\"\\\\\\\\nLINE 1: ...roject_project\\\\\" WHERE (\\\\\"project_project\\\\\".\\\\\"id\\\\\" IN (\\\\\\\\\\'ODOO CHAT...\\\\\\\\n                                                             ^\\\\\\\\n\\'], \\'context\\': {}}}\", {\"modello\": \"account.analytic.line\", \"metodo\": \"write\", \"filtri\": [[\"project_id.name\", \"=\", \"ODOO CHATBOT\"], [\"date\", \"=\", \"2025-01-20\"], [\"user_id\", \"=\", 66]], \"dizionario\": {\"unit_amount\": 3.0, \"date\": \"2025-01-20\", \"project_id\": \"ODOO CHATBOT\"}}]', name='modifica_ERP', id='794cfd88-08c5-4baa-8226-b1059b075f41', tool_call_id='call_JIjXEoLQgxqyooUw08UqD4xE')"
      ]
     },
     "execution_count": 9,
     "metadata": {},
     "output_type": "execute_result"
    }
   ],
   "source": [
    "risposta['messages'][-2]"
   ]
  },
  {
   "cell_type": "code",
   "execution_count": 11,
   "metadata": {},
   "outputs": [],
   "source": [
    "if \"read_ERP\" in risposta['messages'][2].name:\n",
    "    encrypted_data = risposta['messages'][2].content\n",
    "    encrypted_data = ast.literal_eval(encrypted_data)\n",
    "\n",
    "    # Decifra i dati\n",
    "    decrypted_data = []\n",
    "    \n",
    "    for record in encrypted_data:\n",
    "        decrypted_record = {}\n",
    "        for key_name, value in record.items():\n",
    "            decrypted_value = aes_decrypt(value, key, iv)\n",
    "            decrypted_record[key_name] = decrypted_value\n",
    "        decrypted_data.append(decrypted_record)\n",
    "\n",
    "    for i in range(len(encrypted_data)):\n",
    "        for key_item in encrypted_data[i]:\n",
    "            encrypted_value = encrypted_data[i][key_item]\n",
    "            decrypted_value = decrypted_data[i][key_item]\n",
    "\n",
    "            # Sostituisci il valore cifrato con il valore decifrato nel contenuto\n",
    "            if isinstance(encrypted_value, bytes):\n",
    "                encrypted_value_repr = repr(encrypted_value)[2:-1]  # Rappresentazione `bytes` compatibile\n",
    "                risposta['messages'][-1].content = risposta['messages'][-1].content.replace(encrypted_value_repr, decrypted_value)\n",
    "      \n",
    "    print(risposta['messages'][-1].content) \n",
    "\n",
    "else:\n",
    "    print(risposta['messages'][-1].content) "
   ]
  },
  {
   "cell_type": "code",
   "execution_count": null,
   "metadata": {},
   "outputs": [],
   "source": [
    "risposta"
   ]
  },
  {
   "cell_type": "code",
   "execution_count": null,
   "metadata": {},
   "outputs": [],
   "source": [
    "memory.load_memory_variables({})['chat_history']"
   ]
  }
 ],
 "metadata": {
  "kernelspec": {
   "display_name": "rieux",
   "language": "python",
   "name": "python3"
  },
  "language_info": {
   "codemirror_mode": {
    "name": "ipython",
    "version": 3
   },
   "file_extension": ".py",
   "mimetype": "text/x-python",
   "name": "python",
   "nbconvert_exporter": "python",
   "pygments_lexer": "ipython3",
   "version": "3.10.15"
  }
 },
 "nbformat": 4,
 "nbformat_minor": 2
}
