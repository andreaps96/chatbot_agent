{
 "cells": [
  {
   "cell_type": "code",
   "execution_count": 1,
   "metadata": {},
   "outputs": [],
   "source": [
    "import os\n",
    "from dotenv import load_dotenv\n",
    "from funzioni_albero_2025 import pausa,operazione_ERP,eliminazione_ERP,modifica_ERP\n",
    "\n",
    "from langchain_openai import ChatOpenAI\n",
    "from langchain.agents import Tool\n",
    "from langgraph.prebuilt import ToolNode,create_react_agent\n",
    "from langchain_core.messages import HumanMessage, AIMessage\n",
    "from langchain_core.prompts import PromptTemplate\n",
    "from langchain.memory import ConversationTokenBufferMemory"
   ]
  },
  {
   "cell_type": "code",
   "execution_count": 2,
   "metadata": {},
   "outputs": [],
   "source": [
    "load_dotenv()\n",
    "api_key = os.getenv(\"openai_key\")"
   ]
  },
  {
   "cell_type": "code",
   "execution_count": 3,
   "metadata": {},
   "outputs": [],
   "source": [
    "llm = ChatOpenAI(\n",
    "    api_key=api_key,\n",
    "    model='gpt-4o',\n",
    "    temperature=0\n",
    ")"
   ]
  },
  {
   "cell_type": "code",
   "execution_count": 4,
   "metadata": {},
   "outputs": [
    {
     "name": "stderr",
     "output_type": "stream",
     "text": [
      "C:\\Users\\andre\\AppData\\Local\\Temp\\ipykernel_1220\\3669997139.py:2: LangChainDeprecationWarning: Please see the migration guide at: https://python.langchain.com/docs/versions/migrating_memory/\n",
      "  memory = ConversationTokenBufferMemory(\n"
     ]
    }
   ],
   "source": [
    "#memory = ConversationBufferMemory(memory_key='chat_history',return_messages=True)\n",
    "memory = ConversationTokenBufferMemory(\n",
    "    memory_key='chat_history',\n",
    "    return_messages=True,\n",
    "    llm=llm,\n",
    "    max_token_limit=1000\n",
    "    )"
   ]
  },
  {
   "cell_type": "code",
   "execution_count": 5,
   "metadata": {},
   "outputs": [],
   "source": [
    "def query_memory(input_text: str, memory=None):\n",
    "    \"\"\"\n",
    "    Funzione per interpretare le richieste dell'utente relative al contesto.\n",
    "    Ora riceve direttamente l'oggetto memory come parametro.\n",
    "    \"\"\"\n",
    "    if memory is None:\n",
    "        return input_text\n",
    "        \n",
    "    # Carica la chat history dalla memoria\n",
    "    memory_vars = memory.load_memory_variables({})\n",
    "    chat_history = memory_vars.get(\"chat_history\", [])\n",
    "    \n",
    "    template = PromptTemplate.from_template(\n",
    "        \"\"\"\n",
    "        Il tuo compito è RIFORMULARE la richiesta corrente dell'utente in una frase ESEGUIBILE, sostituendo riferimenti vaghi con informazioni specifiche dalla chat history.\n",
    "\n",
    "        NON ANALIZZARE la chat history. NON DESCRIVERE cosa è stato fatto.\n",
    "        INVECE, RIFORMULA la richiesta corrente in una nuova frase completa e autosufficiente.\n",
    "\n",
    "        ESEMPI CORRETTI:\n",
    "        Storia: \"aggiungi due ore al foglio ore di oggi\"\n",
    "        Richiesta: \"cancella l'ultima operazione\"\n",
    "        ✓ Output: \"togli due ore al foglio ore di oggi\"\n",
    "\n",
    "        Storia: \"registra check-in ore 9\"\n",
    "        Richiesta: \"modifica l'orario\"\n",
    "        ✓ Output: \"modifica l'orario del check-in di oggi dalle ore 9\"\n",
    "\n",
    "        ESEMPI ERRATI:\n",
    "        Storia: \"aggiungi due ore al foglio ore\"\n",
    "        Richiesta: \"cancella l'ultima operazione\"\n",
    "        ✓ Output: \"togli due ore al foglio ore\"\n",
    "        ✗ NO: \"L'ultima operazione eseguita è stata l'aggiunta di due ore\"\n",
    "        ✗ NO: \"Si procede a cancellare l'ultima operazione che era...\"\n",
    "\n",
    "        REGOLE:\n",
    "        1. Inizia SEMPRE con un verbo d'azione\n",
    "        2. Includi TUTTI i dettagli specifici dalla chat history\n",
    "        3. La frase deve essere ESEGUIBILE come comando\n",
    "        4. NON usare mai frasi descrittive o analitiche\n",
    "\n",
    "        chat_history: {chat_history}\n",
    "        richiesta corrente: {domanda}\n",
    "\n",
    "        Riformula la richiesta in una singola frase eseguibile:\n",
    "        \"\"\"\n",
    "    )\n",
    "    \n",
    "    chain_memory = template | llm\n",
    "    print(\"memory\")\n",
    "    print(chain_memory.invoke({\"domanda\": input_text, \"chat_history\": chat_history}).content)\n",
    "    \n",
    "    \n",
    "    return chain_memory.invoke({\"domanda\": input_text, \"chat_history\": chat_history}).content"
   ]
  },
  {
   "cell_type": "code",
   "execution_count": 6,
   "metadata": {},
   "outputs": [],
   "source": [
    "tools = [\n",
    "    Tool(\n",
    "        name=\"query_memory\",\n",
    "        func=lambda x: query_memory(x, memory),\n",
    "        description=\"\"\"\n",
    "            Usa questo tool SOLO quando:\n",
    "            - La richiesta contiene riferimenti vaghi (\"quello\", \"questa\", \"precedente\", \"ultima\")\n",
    "            - Serve contestualizzare la richiesta con informazioni dalla chat history\n",
    "            IMPORTANTE: Questo tool RIFORMULA la richiesta in un comando eseguibile\n",
    "            \n",
    "            Esempio INPUT: \"cancella l'ultima operazione\"\n",
    "            Esempio OUTPUT: \"togli 2 ore al foglio ore di oggi\"\n",
    "        \"\"\"\n",
    "    ),\n",
    "    Tool(\n",
    "        name=\"pausa\",\n",
    "        func=pausa,\n",
    "        description=\"\"\"\n",
    "            Usa questo tool SOLO per:\n",
    "            - Registrare check-in o check-out\n",
    "            - Gestire pause pranzo\n",
    "            - Registrare timbrature di entrata/uscita\n",
    "            Non usare per:\n",
    "            - Modificare timbrature esistenti (usa operazione_ERP)\n",
    "            - Altre operazioni non legate a timbrature\n",
    "            \n",
    "            Esempio: \"devo timbrare l'entrata\" -> usa questo tool\n",
    "            Esempio: \"modifica la timbratura di ieri\" -> usa operazione_ERP\n",
    "        \"\"\"\n",
    "    ),\n",
    "    Tool(\n",
    "        name=\"operazione_ERP\",\n",
    "        func=operazione_ERP,\n",
    "        description=\"\"\"\n",
    "            Usa questo tool per:\n",
    "            - Creare nuovi record (richieste ferie, note spese, eventi in calendario ecc.)\n",
    "            - Modificare record esistenti di qualsiasi tipo\n",
    "            - Aggiornare informazioni nel sistema\n",
    "\n",
    "            Non usare per:\n",
    "            - Eliminare record (usa eliminazione_ERP)\n",
    "            - Timbrature semplici (usa pausa)\n",
    "\n",
    "            Esempio: \"voglio prendere ferie lunedì\" -> usa questo tool\n",
    "            Esempio: \"modifica l'importo della nota spese\" -> usa questo tool\n",
    "            Esempio: \"togli due ore al foglio ore\" -> usa questo tool\n",
    "            Esempio: \"crea un evento in calendario ...\" -> usa questo tool\n",
    "        \"\"\"\n",
    "    ),\n",
    "    Tool(\n",
    "        name=\"eliminazione_ERP\",\n",
    "        func=eliminazione_ERP,\n",
    "        description=\"\"\"\n",
    "            Usa questo tool ESCLUSIVAMENTE per:\n",
    "            - Eliminare definitivamente record dal sistema\n",
    "            - Cancellare completamente una richiesta o un documento\n",
    "            Usa SOLO quando l'utente richiede esplicitamente di:\n",
    "            - Cancellare\n",
    "            - Eliminare\n",
    "            - Rimuovere\n",
    "            Non usare mai per:\n",
    "            - Modifiche o aggiornamenti (usa operazione_ERP)\n",
    "            - Disattivazioni temporanee\n",
    "\n",
    "            Esempio: \"elimina la nota spese di ieri\" -> usa questo tool\n",
    "            Esempio: \"rimuovi la richiesta ferie\" -> usa questo tool\n",
    "            Esempio: \"togli un'ora dal foglio ore di oggi\" --> non usare questo tool\n",
    "        \"\"\"\n",
    "    ),\n",
    "    Tool(\n",
    "        name=\"modifica_ERP\",\n",
    "        func=modifica_ERP,\n",
    "        description=\"\"\"\n",
    "            Usa questo tool esclusivamente per modificare i record del db \n",
    "            Usa SOLO quando l'utente richiede esplicitamente di:\n",
    "            - Modificare\n",
    "            - Cambiare\n",
    "            - Spostare\n",
    "\n",
    "            Esempio: \"sposta la riunione di oggi a domani\" -> usa questo tool\n",
    "            Esempio: \"cambia la data del meeting..\" -> usa questo tool\n",
    "            Esempio: \"Elimina il meeting di oggi\" -> non usare questo tool\n",
    "        \"\"\"\n",
    "    )\n",
    "]\n",
    "\n",
    "tool_node = ToolNode(tools)\n",
    "\n",
    "agent = create_react_agent(\n",
    "    model=llm,\n",
    "    tools=tool_node,\n",
    "    store=memory\n",
    ")"
   ]
  },
  {
   "cell_type": "code",
   "execution_count": 7,
   "metadata": {},
   "outputs": [],
   "source": [
    "def invoke_agent(agent, user_input: dict, memory):\n",
    "    \"\"\"\n",
    "    Invoca l'agente con la gestione corretta della memoria.\n",
    "    \"\"\"\n",
    "    # Estrae il messaggio dell'utente\n",
    "    user_message = user_input.get(\"messages\", [])[-1][1] if user_input.get(\"messages\") else \"\"\n",
    "    \n",
    "    \n",
    "    # Prepara l'input per l'agent\n",
    "    agent_input = {\n",
    "        \"messages\": [{\"role\": \"user\", \"content\": user_message}]\n",
    "    }\n",
    "    \n",
    "    # Invoca l'agent\n",
    "    response = agent.invoke(agent_input)\n",
    "    \n",
    "    # Aggiorna la memoria con la nuova interazione\n",
    "    memory.save_context(\n",
    "        {\"input\": user_message},\n",
    "        {\"output\": response.get(\"output\", \"\")}\n",
    "    )\n",
    "    \n",
    "    return response"
   ]
  },
  {
   "cell_type": "code",
   "execution_count": 17,
   "metadata": {},
   "outputs": [
    {
     "name": "stdout",
     "output_type": "stream",
     "text": [
      "memory\n",
      "Cancella l'evento in calendario con nome FNS programmato per lunedì 13 gennaio.\n"
     ]
    }
   ],
   "source": [
    "inputs = {\n",
    "        \"messages\": [(\"user\", \"cancellalo\")]\n",
    "    }\n",
    "    \n",
    "risposta = invoke_agent(agent,inputs,memory)"
   ]
  },
  {
   "cell_type": "code",
   "execution_count": 18,
   "metadata": {},
   "outputs": [
    {
     "name": "stdout",
     "output_type": "stream",
     "text": [
      "L'evento in calendario con nome \"FNS\" programmato per lunedì 13 gennaio è stato cancellato con successo.\n"
     ]
    }
   ],
   "source": [
    "print(risposta['messages'][-1].content)"
   ]
  },
  {
   "cell_type": "code",
   "execution_count": 19,
   "metadata": {},
   "outputs": [
    {
     "data": {
      "text/plain": [
       "{'messages': [HumanMessage(content='cancellalo', additional_kwargs={}, response_metadata={}, id='541a7441-a4e1-404a-979f-0def86821dda'),\n",
       "  AIMessage(content='', additional_kwargs={'tool_calls': [{'id': 'call_sN7gbwhyFBeJRuBlHO80MFhS', 'function': {'arguments': '{\"__arg1\":\"cancellalo\"}', 'name': 'query_memory'}, 'type': 'function'}], 'refusal': None}, response_metadata={'token_usage': {'completion_tokens': 19, 'prompt_tokens': 744, 'total_tokens': 763, 'completion_tokens_details': {'accepted_prediction_tokens': 0, 'audio_tokens': 0, 'reasoning_tokens': 0, 'rejected_prediction_tokens': 0}, 'prompt_tokens_details': {'audio_tokens': 0, 'cached_tokens': 0}}, 'model_name': 'gpt-4o-2024-08-06', 'system_fingerprint': 'fp_b7d65f1a5b', 'finish_reason': 'tool_calls', 'logprobs': None}, id='run-bd95c1cd-d602-47e3-a0ff-fa795527520c-0', tool_calls=[{'name': 'query_memory', 'args': {'__arg1': 'cancellalo'}, 'id': 'call_sN7gbwhyFBeJRuBlHO80MFhS', 'type': 'tool_call'}], usage_metadata={'input_tokens': 744, 'output_tokens': 19, 'total_tokens': 763, 'input_token_details': {'audio': 0, 'cache_read': 0}, 'output_token_details': {'audio': 0, 'reasoning': 0}}),\n",
       "  ToolMessage(content=\"Cancella l'evento in calendario con nome FNS programmato per lunedì 13 gennaio.\", name='query_memory', id='c017553b-2603-4409-9b28-bbb4631487e9', tool_call_id='call_sN7gbwhyFBeJRuBlHO80MFhS'),\n",
       "  AIMessage(content='', additional_kwargs={'tool_calls': [{'id': 'call_aCNToNFpjrGUd9tg1mM8gFgf', 'function': {'arguments': '{\"__arg1\":\"Cancella l\\'evento in calendario con nome FNS programmato per lunedì 13 gennaio.\"}', 'name': 'eliminazione_ERP'}, 'type': 'function'}], 'refusal': None}, response_metadata={'token_usage': {'completion_tokens': 39, 'prompt_tokens': 790, 'total_tokens': 829, 'completion_tokens_details': {'accepted_prediction_tokens': 0, 'audio_tokens': 0, 'reasoning_tokens': 0, 'rejected_prediction_tokens': 0}, 'prompt_tokens_details': {'audio_tokens': 0, 'cached_tokens': 0}}, 'model_name': 'gpt-4o-2024-08-06', 'system_fingerprint': 'fp_b7d65f1a5b', 'finish_reason': 'tool_calls', 'logprobs': None}, id='run-bda2d866-e6e2-47ef-8239-de23cedfa753-0', tool_calls=[{'name': 'eliminazione_ERP', 'args': {'__arg1': \"Cancella l'evento in calendario con nome FNS programmato per lunedì 13 gennaio.\"}, 'id': 'call_aCNToNFpjrGUd9tg1mM8gFgf', 'type': 'tool_call'}], usage_metadata={'input_tokens': 790, 'output_tokens': 39, 'total_tokens': 829, 'input_token_details': {'audio': 0, 'cache_read': 0}, 'output_token_details': {'audio': 0, 'reasoning': 0}}),\n",
       "  ToolMessage(content='{\"modello\": \"calendar.event\", \"filtri\": [[\"name\", \"=\", \"FNS\"], [\"start\", \">=\", \"2025-01-13 00:00:00\"], [\"stop\", \"<=\", \"2025-01-13 23:59:59\"], [\"user_id\", \"=\", 66]]}', name='eliminazione_ERP', id='ca8f3477-db02-47ee-a1eb-e7932ce28487', tool_call_id='call_aCNToNFpjrGUd9tg1mM8gFgf'),\n",
       "  AIMessage(content='L\\'evento in calendario con nome \"FNS\" programmato per lunedì 13 gennaio è stato cancellato con successo.', additional_kwargs={'refusal': None}, response_metadata={'token_usage': {'completion_tokens': 28, 'prompt_tokens': 908, 'total_tokens': 936, 'completion_tokens_details': {'accepted_prediction_tokens': 0, 'audio_tokens': 0, 'reasoning_tokens': 0, 'rejected_prediction_tokens': 0}, 'prompt_tokens_details': {'audio_tokens': 0, 'cached_tokens': 0}}, 'model_name': 'gpt-4o-2024-08-06', 'system_fingerprint': 'fp_b7d65f1a5b', 'finish_reason': 'stop', 'logprobs': None}, id='run-dfc14fe8-a28c-4004-9de8-b570f7d25330-0', usage_metadata={'input_tokens': 908, 'output_tokens': 28, 'total_tokens': 936, 'input_token_details': {'audio': 0, 'cache_read': 0}, 'output_token_details': {'audio': 0, 'reasoning': 0}})]}"
      ]
     },
     "execution_count": 19,
     "metadata": {},
     "output_type": "execute_result"
    }
   ],
   "source": [
    "risposta"
   ]
  },
  {
   "cell_type": "code",
   "execution_count": null,
   "metadata": {},
   "outputs": [],
   "source": [
    "inputs = {\n",
    "        \"messages\": [(\"user\", \"elimina l'ultima operazione\")]\n",
    "    }\n",
    "    \n",
    "risposta = invoke_agent(agent,inputs,memory)"
   ]
  },
  {
   "cell_type": "code",
   "execution_count": null,
   "metadata": {},
   "outputs": [],
   "source": [
    "print(risposta['messages'][-1].content)"
   ]
  },
  {
   "cell_type": "code",
   "execution_count": null,
   "metadata": {},
   "outputs": [],
   "source": [
    "risposta"
   ]
  },
  {
   "cell_type": "code",
   "execution_count": null,
   "metadata": {},
   "outputs": [],
   "source": [
    "memory.load_memory_variables({})"
   ]
  }
 ],
 "metadata": {
  "kernelspec": {
   "display_name": "rieux",
   "language": "python",
   "name": "python3"
  },
  "language_info": {
   "codemirror_mode": {
    "name": "ipython",
    "version": 3
   },
   "file_extension": ".py",
   "mimetype": "text/x-python",
   "name": "python",
   "nbconvert_exporter": "python",
   "pygments_lexer": "ipython3",
   "version": "3.12.6"
  }
 },
 "nbformat": 4,
 "nbformat_minor": 2
}
