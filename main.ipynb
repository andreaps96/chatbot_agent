{
 "cells": [
  {
   "cell_type": "code",
   "execution_count": 1,
   "metadata": {},
   "outputs": [],
   "source": [
    "import os\n",
    "from dotenv import load_dotenv\n",
    "from funzioni_albero_2025 import pausa,operazione_ERP,eliminazione_ERP,modifica_ERP,read_ERP, aes_decrypt,key,iv\n",
    "\n",
    "from langchain_openai import ChatOpenAI\n",
    "from langchain.agents import Tool\n",
    "from langgraph.prebuilt import ToolNode,create_react_agent\n",
    "from langchain_core.prompts import PromptTemplate\n",
    "from langchain.memory import ConversationTokenBufferMemory\n",
    "import ast"
   ]
  },
  {
   "cell_type": "code",
   "execution_count": 2,
   "metadata": {},
   "outputs": [],
   "source": [
    "load_dotenv()\n",
    "api_key = os.getenv(\"openai_key\")"
   ]
  },
  {
   "cell_type": "code",
   "execution_count": 3,
   "metadata": {},
   "outputs": [],
   "source": [
    "llm = ChatOpenAI(\n",
    "    api_key=api_key,\n",
    "    model='gpt-4o',\n",
    "    temperature=0\n",
    ")"
   ]
  },
  {
   "cell_type": "code",
   "execution_count": 4,
   "metadata": {},
   "outputs": [
    {
     "name": "stderr",
     "output_type": "stream",
     "text": [
      "C:\\Users\\Unitiva\\AppData\\Local\\Temp\\ipykernel_19020\\2715650747.py:1: LangChainDeprecationWarning: Please see the migration guide at: https://python.langchain.com/docs/versions/migrating_memory/\n",
      "  memory = ConversationTokenBufferMemory(\n"
     ]
    }
   ],
   "source": [
    "memory = ConversationTokenBufferMemory(\n",
    "    memory_key='chat_history',\n",
    "    return_messages=True,\n",
    "    llm=llm,\n",
    "    max_token_limit=1000\n",
    "    )"
   ]
  },
  {
   "cell_type": "code",
   "execution_count": 5,
   "metadata": {},
   "outputs": [],
   "source": [
    "def query_memory(input_text: str, memory=None):\n",
    "    \"\"\"\n",
    "    Funzione per interpretare le richieste dell'utente relative al contesto.\n",
    "    Ora riceve direttamente l'oggetto memory come parametro.\n",
    "    \"\"\"\n",
    "    if memory is None:\n",
    "        return input_text\n",
    "        \n",
    "    # Carica la chat history dalla memoria\n",
    "    memory_vars = memory.load_memory_variables({})\n",
    "    chat_history = memory_vars.get(\"chat_history\", [])\n",
    "    \n",
    "    template = PromptTemplate.from_template(\n",
    "        \"\"\"\n",
    "        Il tuo compito è RIFORMULARE la richiesta corrente dell'utente in una frase ESEGUIBILE, sostituendo riferimenti vaghi con informazioni specifiche dalla chat history.\n",
    "\n",
    "        NON ANALIZZARE la chat history. NON DESCRIVERE cosa è stato fatto.\n",
    "        INVECE, RIFORMULA la richiesta corrente in una nuova frase completa e autosufficiente.\n",
    "\n",
    "        ESEMPI CORRETTI:\n",
    "        Storia: \"aggiungi due ore al foglio ore di oggi\"\n",
    "        Richiesta: \"cancella l'ultima operazione\"\n",
    "        ✓ Output: \"togli due ore al foglio ore di oggi\"\n",
    "\n",
    "        Storia: \"registra check-in ore 9\"\n",
    "        Richiesta: \"modifica l'orario\"\n",
    "        ✓ Output: \"modifica l'orario del check-in di oggi dalle ore 9\"\n",
    "\n",
    "        ESEMPI ERRATI:\n",
    "        Storia: \"aggiungi due ore al foglio ore\"\n",
    "        Richiesta: \"cancella l'ultima operazione\"\n",
    "        ✓ Output: \"togli due ore al foglio ore\"\n",
    "        ✗ NO: \"L'ultima operazione eseguita è stata l'aggiunta di due ore\"\n",
    "        ✗ NO: \"Si procede a cancellare l'ultima operazione che era...\"\n",
    "\n",
    "        REGOLE:\n",
    "        1. Inizia SEMPRE con un verbo d'azione\n",
    "        2. Includi TUTTI i dettagli specifici dalla chat history\n",
    "        3. La frase deve essere ESEGUIBILE come comando\n",
    "        4. NON usare mai frasi descrittive o analitiche\n",
    "\n",
    "        chat_history: {chat_history}\n",
    "        richiesta corrente: {domanda}\n",
    "\n",
    "        Riformula la richiesta in una singola frase eseguibile:\n",
    "        \"\"\"\n",
    "    )\n",
    "    \n",
    "    chain_memory = template | llm\n",
    "    print(\"memory\")\n",
    "    #print(chain_memory.invoke({\"domanda\": input_text, \"chat_history\": chat_history}).content)\n",
    "    \n",
    "\n",
    "    return chain_memory.invoke({\"domanda\": input_text, \"chat_history\": chat_history}).content"
   ]
  },
  {
   "cell_type": "code",
   "execution_count": 6,
   "metadata": {},
   "outputs": [],
   "source": [
    "tools = [\n",
    "    Tool(\n",
    "        name=\"query_memory\",\n",
    "        func=lambda x: query_memory(x, memory),\n",
    "        description=\"\"\"\n",
    "            Usa questo tool SOLO quando:\n",
    "            - La richiesta contiene riferimenti vaghi (\"quello\", \"questa\", \"precedente\", \"ultima\")\n",
    "            - Serve contestualizzare la richiesta con informazioni dalla chat history\n",
    "            IMPORTANTE: Questo tool RIFORMULA la richiesta in un comando eseguibile\n",
    "            \n",
    "            Esempio INPUT: \"cancella l'ultima operazione\"\n",
    "            Esempio OUTPUT: \"togli 2 ore al foglio ore di oggi\"\n",
    "        \"\"\"\n",
    "    ),\n",
    "    Tool(\n",
    "        name=\"pausa\",\n",
    "        func=pausa,\n",
    "        description=\"\"\"\n",
    "            Usa questo tool SOLO per:\n",
    "            - Registrare check-in o check-out\n",
    "            - Gestire pause pranzo\n",
    "            - Registrare timbrature di entrata/uscita\n",
    "            Non usare per:\n",
    "            - Modificare timbrature esistenti (usa operazione_ERP)\n",
    "            - Altre operazioni non legate a timbrature\n",
    "            \n",
    "            Esempio: \"devo timbrare l'entrata\" -> usa questo tool\n",
    "            Esempio: \"modifica la timbratura di ieri\" -> usa operazione_ERP\n",
    "        \"\"\"\n",
    "    ),\n",
    "    Tool(\n",
    "        name=\"operazione_ERP\",\n",
    "        func=operazione_ERP,\n",
    "        description=\"\"\"\n",
    "            Usa questo tool per:\n",
    "            - Creare nuovi record (richieste ferie, note spese, eventi in calendario ecc.)\n",
    "            - Modificare record esistenti di qualsiasi tipo\n",
    "            - Aggiornare informazioni nel sistema\n",
    "\n",
    "            Non usare per:\n",
    "            - Eliminare record (usa eliminazione_ERP)\n",
    "            - Timbrature semplici (usa pausa)\n",
    "\n",
    "            Esempio: \"voglio prendere ferie lunedì\" -> usa questo tool\n",
    "            Esempio: \"modifica l'importo della nota spese\" -> usa questo tool\n",
    "            Esempio: \"togli due ore al foglio ore\" -> usa questo tool\n",
    "            Esempio: \"crea un evento in calendario ...\" -> usa questo tool\n",
    "        \"\"\"\n",
    "    ),\n",
    "    Tool(\n",
    "        name=\"eliminazione_ERP\",\n",
    "        func=eliminazione_ERP,\n",
    "        description=\"\"\"\n",
    "            Usa questo tool ESCLUSIVAMENTE per:\n",
    "            - Eliminare definitivamente record dal sistema\n",
    "            - Cancellare completamente una richiesta o un documento\n",
    "            Usa SOLO quando l'utente richiede esplicitamente di:\n",
    "            - Cancellare\n",
    "            - Eliminare\n",
    "            - Rimuovere\n",
    "            Non usare mai per:\n",
    "            - Modifiche o aggiornamenti (usa operazione_ERP)\n",
    "            - Disattivazioni temporanee\n",
    "\n",
    "            Esempio: \"elimina la nota spese di ieri\" -> usa questo tool\n",
    "            Esempio: \"rimuovi la richiesta ferie\" -> usa questo tool\n",
    "            Esempio: \"togli un'ora dal foglio ore di oggi\" --> non usare questo tool\n",
    "        \"\"\"\n",
    "    ),\n",
    "    Tool(\n",
    "        name=\"modifica_ERP\",\n",
    "        func=modifica_ERP,\n",
    "        description=\"\"\"\n",
    "            Usa questo tool esclusivamente per modificare i record del db \n",
    "            Usa SOLO quando l'utente richiede esplicitamente di:\n",
    "            - Modificare\n",
    "            - Cambiare\n",
    "            - Spostare\n",
    "\n",
    "            Esempio: \"sposta la riunione di oggi a domani\" -> usa questo tool\n",
    "            Esempio: \"cambia la data del meeting..\" -> usa questo tool\n",
    "            Esempio: \"Elimina il meeting di oggi\" -> non usare questo tool\n",
    "        \"\"\"\n",
    "    ),\n",
    "    Tool(\n",
    "    name='read_ERP',\n",
    "    func=read_ERP,\n",
    "    description=\"\"\" \n",
    "        Usa questo tool esclusivamente per leggere e riportare record dal db.\n",
    "        Usa SOLO quando l'utente chiede esplicitamente di:\n",
    "        - Leggere\n",
    "        - Mostrare\n",
    "        - Riportare\n",
    "\n",
    "        Esempio: \"leggimi il foglio ore di oggi\" -> usa questo tool\n",
    "        Esempio: \"mostrami gli eventi in calendario per questa settimana\" -> usa questo tool\n",
    "    \"\"\"\n",
    ")]\n",
    "\n",
    "tool_node = ToolNode(tools)\n",
    "\n",
    "agent = create_react_agent(\n",
    "    model=llm,\n",
    "    tools=tool_node,\n",
    "    store=memory\n",
    ")"
   ]
  },
  {
   "cell_type": "code",
   "execution_count": 7,
   "metadata": {},
   "outputs": [],
   "source": [
    "def invoke_agent(agent, user_input: dict, memory):\n",
    "    \"\"\"\n",
    "    Invoca l'agente con la gestione corretta della memoria.\n",
    "    \"\"\"\n",
    "    # Estrae il messaggio dell'utente\n",
    "    user_message = user_input.get(\"messages\", [])[-1][1] if user_input.get(\"messages\") else \"\"\n",
    "    \n",
    "    \n",
    "    # Prepara l'input per l'agent\n",
    "    agent_input = {\n",
    "        \"messages\": [{\"role\": \"user\", \"content\": user_message}]\n",
    "    }\n",
    "    \n",
    "    # Invoca l'agent\n",
    "    response = agent.invoke(agent_input)\n",
    "    \n",
    "    # Aggiorna la memoria con la nuova interazione\n",
    "    memory.save_context(\n",
    "        {\"input\": user_message},\n",
    "        {\"output\": response.get(\"output\", \"\")}\n",
    "    )\n",
    "    \n",
    "    return response"
   ]
  },
  {
   "cell_type": "code",
   "execution_count": 23,
   "metadata": {},
   "outputs": [],
   "source": [
    "inputs = {\n",
    "        \"messages\": [(\"user\", \"metti un'ora al foglio ore di oggi progetto odoo chatbot\")]\n",
    "    }\n",
    "    \n",
    "risposta = invoke_agent(agent,inputs,memory)"
   ]
  },
  {
   "cell_type": "code",
   "execution_count": 24,
   "metadata": {},
   "outputs": [
    {
     "name": "stdout",
     "output_type": "stream",
     "text": [
      "Si è verificato un errore durante l'aggiunta di un'ora al foglio ore di oggi per il progetto Odoo Chatbot. Potrebbe esserci un problema con i dati forniti. Ti consiglio di verificare che il progetto \"Odoo Chatbot\" esista e che i dati siano corretti. Se il problema persiste, potrebbe essere utile contattare il supporto tecnico per ulteriore assistenza.\n"
     ]
    }
   ],
   "source": [
    "print(risposta['messages'][-1].content)"
   ]
  },
  {
   "cell_type": "code",
   "execution_count": 18,
   "metadata": {},
   "outputs": [
    {
     "data": {
      "text/plain": [
       "{'messages': [HumanMessage(content='metti ferie per il 17 gennaio 2025', additional_kwargs={}, response_metadata={}, id='f275abce-c751-4d4f-9505-62f351c51db5'),\n",
       "  AIMessage(content='', additional_kwargs={'tool_calls': [{'id': 'call_Ux04YwbPlAorI6rjngY0a92H', 'function': {'arguments': '{\"__arg1\":\"richiesta ferie per il 17 gennaio 2025\"}', 'name': 'operazione_ERP'}, 'type': 'function'}], 'refusal': None}, response_metadata={'token_usage': {'completion_tokens': 30, 'prompt_tokens': 752, 'total_tokens': 782, 'completion_tokens_details': {'accepted_prediction_tokens': 0, 'audio_tokens': 0, 'reasoning_tokens': 0, 'rejected_prediction_tokens': 0}, 'prompt_tokens_details': {'audio_tokens': 0, 'cached_tokens': 0}}, 'model_name': 'gpt-4o-2024-08-06', 'system_fingerprint': 'fp_4691090a87', 'finish_reason': 'tool_calls', 'logprobs': None}, id='run-f8ef9d6a-a795-4fb4-aa5c-661a78f217c2-0', tool_calls=[{'name': 'operazione_ERP', 'args': {'__arg1': 'richiesta ferie per il 17 gennaio 2025'}, 'id': 'call_Ux04YwbPlAorI6rjngY0a92H', 'type': 'tool_call'}], usage_metadata={'input_tokens': 752, 'output_tokens': 30, 'total_tokens': 782, 'input_token_details': {'audio': 0, 'cache_read': 0}, 'output_token_details': {'audio': 0, 'reasoning': 0}}),\n",
       "  ToolMessage(content='Record creato con successo', name='operazione_ERP', id='a4a64748-330d-4d0a-b982-85a1927dc98f', tool_call_id='call_Ux04YwbPlAorI6rjngY0a92H'),\n",
       "  AIMessage(content='La richiesta di ferie per il 17 gennaio 2025 è stata creata con successo.', additional_kwargs={'refusal': None}, response_metadata={'token_usage': {'completion_tokens': 21, 'prompt_tokens': 796, 'total_tokens': 817, 'completion_tokens_details': {'accepted_prediction_tokens': 0, 'audio_tokens': 0, 'reasoning_tokens': 0, 'rejected_prediction_tokens': 0}, 'prompt_tokens_details': {'audio_tokens': 0, 'cached_tokens': 0}}, 'model_name': 'gpt-4o-2024-08-06', 'system_fingerprint': 'fp_4691090a87', 'finish_reason': 'stop', 'logprobs': None}, id='run-90eda8fa-835a-488f-ba2b-0e7b132ac786-0', usage_metadata={'input_tokens': 796, 'output_tokens': 21, 'total_tokens': 817, 'input_token_details': {'audio': 0, 'cache_read': 0}, 'output_token_details': {'audio': 0, 'reasoning': 0}})]}"
      ]
     },
     "execution_count": 17,
     "metadata": {},
     "output_type": "execute_result"
    }
   ],
   "source": [
    "# if \"read_ERP\" in risposta['messages'][2].name:\n",
    "#     encrypted_data = risposta['messages'][2].content\n",
    "#     encrypted_data = ast.literal_eval(encrypted_data)\n",
    "\n",
    "#     # Decifra i dati\n",
    "#     decrypted_data = []\n",
    "    \n",
    "#     for record in encrypted_data:\n",
    "#         decrypted_record = {}\n",
    "#         for key_name, value in record.items():\n",
    "#             decrypted_value = aes_decrypt(value, key, iv)\n",
    "#             decrypted_record[key_name] = decrypted_value\n",
    "#         decrypted_data.append(decrypted_record)\n",
    "\n",
    "#     for i in range(len(encrypted_data)):\n",
    "#         for key_item in encrypted_data[i]:\n",
    "#             encrypted_value = encrypted_data[i][key_item]\n",
    "#             decrypted_value = decrypted_data[i][key_item]\n",
    "\n",
    "#             # Sostituisci il valore cifrato con il valore decifrato nel contenuto\n",
    "#             if isinstance(encrypted_value, bytes):\n",
    "#                 encrypted_value_repr = repr(encrypted_value)[2:-1]  # Rappresentazione `bytes` compatibile\n",
    "#                 risposta['messages'][-1].content = risposta['messages'][-1].content.replace(encrypted_value_repr, decrypted_value)\n",
    "      \n",
    "#     print(risposta['messages'][-1].content) \n",
    "\n",
    "# else:\n",
    "#     print(risposta['messages'][-1].content) "
   ]
  },
  {
   "cell_type": "code",
   "execution_count": 19,
   "metadata": {},
   "outputs": [
    {
     "data": {
      "text/plain": [
       "{'messages': [HumanMessage(content=\"metti un'ora al foglio ore di oggi al task analisi del progetto odoo chatbot\", additional_kwargs={}, response_metadata={}, id='33056d99-087b-45f3-90cf-c10289e3c36e'),\n",
       "  AIMessage(content='', additional_kwargs={'tool_calls': [{'id': 'call_Jl7MUmKvYqJcfyTgUb9xJ63Y', 'function': {'arguments': '{\"__arg1\":\"aggiungi un\\'ora al foglio ore di oggi per il task \\'analisi del progetto odoo chatbot\\'\"}', 'name': 'operazione_ERP'}, 'type': 'function'}], 'refusal': None}, response_metadata={'token_usage': {'completion_tokens': 41, 'prompt_tokens': 867, 'total_tokens': 908, 'completion_tokens_details': {'accepted_prediction_tokens': 0, 'audio_tokens': 0, 'reasoning_tokens': 0, 'rejected_prediction_tokens': 0}, 'prompt_tokens_details': {'audio_tokens': 0, 'cached_tokens': 0}}, 'model_name': 'gpt-4o-2024-08-06', 'system_fingerprint': 'fp_4691090a87', 'finish_reason': 'tool_calls', 'logprobs': None}, id='run-38fef84b-3ecc-4ef0-889e-01ee10a1c3e2-0', tool_calls=[{'name': 'operazione_ERP', 'args': {'__arg1': \"aggiungi un'ora al foglio ore di oggi per il task 'analisi del progetto odoo chatbot'\"}, 'id': 'call_Jl7MUmKvYqJcfyTgUb9xJ63Y', 'type': 'tool_call'}], usage_metadata={'input_tokens': 867, 'output_tokens': 41, 'total_tokens': 908, 'input_token_details': {'audio': 0, 'cache_read': 0}, 'output_token_details': {'audio': 0, 'reasoning': 0}}),\n",
       "  ToolMessage(content=\"Errore nell'esecuzione dell'operazione: 'project_id'\", name='operazione_ERP', id='1a8deef5-d0a2-489b-a566-0fe77cc65486', tool_call_id='call_Jl7MUmKvYqJcfyTgUb9xJ63Y'),\n",
       "  AIMessage(content=\"Sembra che ci sia un problema con l'identificazione del progetto. Potresti fornirmi l'ID del progetto o ulteriori dettagli per aiutarmi a completare l'operazione?\", additional_kwargs={'refusal': None}, response_metadata={'token_usage': {'completion_tokens': 42, 'prompt_tokens': 932, 'total_tokens': 974, 'completion_tokens_details': {'accepted_prediction_tokens': 0, 'audio_tokens': 0, 'reasoning_tokens': 0, 'rejected_prediction_tokens': 0}, 'prompt_tokens_details': {'audio_tokens': 0, 'cached_tokens': 0}}, 'model_name': 'gpt-4o-2024-08-06', 'system_fingerprint': 'fp_4691090a87', 'finish_reason': 'stop', 'logprobs': None}, id='run-d6fcebaf-d61a-4595-8956-3f2b355e6c92-0', usage_metadata={'input_tokens': 932, 'output_tokens': 42, 'total_tokens': 974, 'input_token_details': {'audio': 0, 'cache_read': 0}, 'output_token_details': {'audio': 0, 'reasoning': 0}})]}"
      ]
     },
     "execution_count": 19,
     "metadata": {},
     "output_type": "execute_result"
    }
   ],
   "source": [
    "risposta"
   ]
  },
  {
   "cell_type": "code",
   "execution_count": 20,
   "metadata": {},
   "outputs": [
    {
     "data": {
      "text/plain": [
       "{'chat_history': [HumanMessage(content='metti una ferie per domani', additional_kwargs={}, response_metadata={}),\n",
       "  AIMessage(content='', additional_kwargs={}, response_metadata={}),\n",
       "  HumanMessage(content=\"metti un'ora al foglio ore di oggi al task analisi del progetto odoo chatbot\", additional_kwargs={}, response_metadata={}),\n",
       "  AIMessage(content='', additional_kwargs={}, response_metadata={})]}"
      ]
     },
     "execution_count": 20,
     "metadata": {},
     "output_type": "execute_result"
    }
   ],
   "source": [
    "memory.load_memory_variables({})"
   ]
  }
 ],
 "metadata": {
  "kernelspec": {
   "display_name": "venvconda",
   "language": "python",
   "name": "python3"
  },
  "language_info": {
   "codemirror_mode": {
    "name": "ipython",
    "version": 3
   },
   "file_extension": ".py",
   "mimetype": "text/x-python",
   "name": "python",
   "nbconvert_exporter": "python",
   "pygments_lexer": "ipython3",
   "version": "3.12.4"
  }
 },
 "nbformat": 4,
 "nbformat_minor": 2
}
