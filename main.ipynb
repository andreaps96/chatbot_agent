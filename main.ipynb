{
 "cells": [
  {
   "cell_type": "code",
   "execution_count": 1,
   "metadata": {},
   "outputs": [],
   "source": [
    "import os\n",
    "from dotenv import load_dotenv\n",
    "from funzioni_albero_2025 import pausa,operazione_ERP,eliminazione_ERP,modifica_ERP,read_ERP, aes_decrypt,key,iv\n",
    "\n",
    "from langchain_openai import ChatOpenAI\n",
    "from langchain.agents import Tool\n",
    "from langgraph.prebuilt import ToolNode,create_react_agent\n",
    "from langchain_core.prompts import PromptTemplate\n",
    "from langchain.memory import ConversationTokenBufferMemory\n",
    "import ast"
   ]
  },
  {
   "cell_type": "code",
   "execution_count": 2,
   "metadata": {},
   "outputs": [],
   "source": [
    "load_dotenv()\n",
    "api_key = os.getenv(\"openai_key\")"
   ]
  },
  {
   "cell_type": "code",
   "execution_count": 3,
   "metadata": {},
   "outputs": [],
   "source": [
    "llm = ChatOpenAI(\n",
    "    api_key=api_key,\n",
    "    model='gpt-4o',\n",
    "    temperature=0\n",
    ")"
   ]
  },
  {
   "cell_type": "code",
   "execution_count": 4,
   "metadata": {},
   "outputs": [
    {
     "name": "stderr",
     "output_type": "stream",
     "text": [
      "C:\\Users\\Unitiva\\AppData\\Local\\Temp\\ipykernel_4260\\2715650747.py:1: LangChainDeprecationWarning: Please see the migration guide at: https://python.langchain.com/docs/versions/migrating_memory/\n",
      "  memory = ConversationTokenBufferMemory(\n"
     ]
    }
   ],
   "source": [
    "memory = ConversationTokenBufferMemory(\n",
    "    memory_key='chat_history',\n",
    "    return_messages=True,\n",
    "    llm=llm,\n",
    "    max_token_limit=1000\n",
    "    )"
   ]
  },
  {
   "cell_type": "code",
   "execution_count": 5,
   "metadata": {},
   "outputs": [],
   "source": [
    "def query_memory(input_text: str, memory=None):\n",
    "    \"\"\"\n",
    "    Funzione per interpretare le richieste dell'utente relative al contesto.\n",
    "    Ora riceve direttamente l'oggetto memory come parametro.\n",
    "    \"\"\"\n",
    "    if memory is None:\n",
    "        return input_text\n",
    "        \n",
    "    # Carica la chat history dalla memoria\n",
    "    memory_vars = memory.load_memory_variables({})\n",
    "    chat_history = memory_vars.get(\"chat_history\", [])\n",
    "    \n",
    "    template = PromptTemplate.from_template(\n",
    "        \"\"\"\n",
    "        Il tuo compito è RIFORMULARE la richiesta corrente dell'utente in una frase ESEGUIBILE, sostituendo riferimenti vaghi con informazioni specifiche dalla chat history.\n",
    "\n",
    "        NON ANALIZZARE la chat history. NON DESCRIVERE cosa è stato fatto.\n",
    "        INVECE, RIFORMULA la richiesta corrente in una nuova frase completa e autosufficiente.\n",
    "\n",
    "        ESEMPI CORRETTI:\n",
    "        Storia: \"aggiungi due ore al foglio ore di oggi\"\n",
    "        Richiesta: \"cancella l'ultima operazione\"\n",
    "        ✓ Output: \"togli due ore al foglio ore di oggi\"\n",
    "\n",
    "        Storia: \"registra check-in ore 9\"\n",
    "        Richiesta: \"modifica l'orario\"\n",
    "        ✓ Output: \"modifica l'orario del check-in di oggi dalle ore 9\"\n",
    "\n",
    "        ESEMPI ERRATI:\n",
    "        Storia: \"aggiungi due ore al foglio ore\"\n",
    "        Richiesta: \"cancella l'ultima operazione\"\n",
    "        ✓ Output: \"togli due ore al foglio ore\"\n",
    "        ✗ NO: \"L'ultima operazione eseguita è stata l'aggiunta di due ore\"\n",
    "        ✗ NO: \"Si procede a cancellare l'ultima operazione che era...\"\n",
    "\n",
    "        REGOLE:\n",
    "        1. Inizia SEMPRE con un verbo d'azione\n",
    "        2. Includi TUTTI i dettagli specifici dalla chat history\n",
    "        3. La frase deve essere ESEGUIBILE come comando\n",
    "        4. NON usare mai frasi descrittive o analitiche\n",
    "\n",
    "        chat_history: {chat_history}\n",
    "        richiesta corrente: {domanda}\n",
    "\n",
    "        Riformula la richiesta in una singola frase eseguibile:\n",
    "        \"\"\"\n",
    "    )\n",
    "    \n",
    "    chain_memory = template | llm\n",
    "    print(\"memory\")\n",
    "    print(chain_memory.invoke({\"domanda\": input_text, \"chat_history\": chat_history}).content)\n",
    "    \n",
    "\n",
    "    return chain_memory.invoke({\"domanda\": input_text, \"chat_history\": chat_history}).content"
   ]
  },
  {
   "cell_type": "code",
   "execution_count": 6,
   "metadata": {},
   "outputs": [],
   "source": [
    "tools = [\n",
    "    Tool(\n",
    "        name=\"query_memory\",\n",
    "        func=lambda x: query_memory(x, memory),\n",
    "        description=\"\"\"\n",
    "            Usa questo tool SOLO quando:\n",
    "            - La richiesta contiene riferimenti vaghi (\"quello\", \"questa\", \"precedente\", \"ultima\")\n",
    "            - Serve contestualizzare la richiesta con informazioni dalla chat history\n",
    "            IMPORTANTE: Questo tool RIFORMULA la richiesta in un comando eseguibile\n",
    "            \n",
    "            Esempio INPUT: \"cancella l'ultima operazione\"\n",
    "            Esempio OUTPUT: \"togli 2 ore al foglio ore di oggi\"\n",
    "        \"\"\"\n",
    "    ),\n",
    "    Tool(\n",
    "        name=\"pausa\",\n",
    "        func=pausa,\n",
    "        description=\"\"\"\n",
    "            Usa questo tool SOLO per:\n",
    "            - Registrare check-in o check-out\n",
    "            - Gestire pause pranzo\n",
    "            - Registrare timbrature di entrata/uscita\n",
    "            Non usare per:\n",
    "            - Modificare timbrature esistenti (usa operazione_ERP)\n",
    "            - Altre operazioni non legate a timbrature\n",
    "            \n",
    "            Esempio: \"devo timbrare l'entrata\" -> usa questo tool\n",
    "            Esempio: \"modifica la timbratura di ieri\" -> usa operazione_ERP\n",
    "        \"\"\"\n",
    "    ),\n",
    "    Tool(\n",
    "        name=\"operazione_ERP\",\n",
    "        func=operazione_ERP,\n",
    "        description=\"\"\"\n",
    "            Usa questo tool per:\n",
    "            - Creare nuovi record (richieste ferie, note spese, eventi in calendario ecc.)\n",
    "            - Modificare record esistenti di qualsiasi tipo\n",
    "            - Aggiornare informazioni nel sistema\n",
    "\n",
    "            Non usare per:\n",
    "            - Eliminare record (usa eliminazione_ERP)\n",
    "            - Timbrature semplici (usa pausa)\n",
    "\n",
    "            Esempio: \"voglio prendere ferie lunedì\" -> usa questo tool\n",
    "            Esempio: \"modifica l'importo della nota spese\" -> usa questo tool\n",
    "            Esempio: \"togli due ore al foglio ore\" -> usa questo tool\n",
    "            Esempio: \"crea un evento in calendario ...\" -> usa questo tool\n",
    "        \"\"\"\n",
    "    ),\n",
    "    Tool(\n",
    "        name=\"eliminazione_ERP\",\n",
    "        func=eliminazione_ERP,\n",
    "        description=\"\"\"\n",
    "            Usa questo tool ESCLUSIVAMENTE per:\n",
    "            - Eliminare definitivamente record dal sistema\n",
    "            - Cancellare completamente una richiesta o un documento\n",
    "            Usa SOLO quando l'utente richiede esplicitamente di:\n",
    "            - Cancellare\n",
    "            - Eliminare\n",
    "            - Rimuovere\n",
    "            Non usare mai per:\n",
    "            - Modifiche o aggiornamenti (usa operazione_ERP)\n",
    "            - Disattivazioni temporanee\n",
    "\n",
    "            Esempio: \"elimina la nota spese di ieri\" -> usa questo tool\n",
    "            Esempio: \"rimuovi la richiesta ferie\" -> usa questo tool\n",
    "            Esempio: \"togli un'ora dal foglio ore di oggi\" --> non usare questo tool\n",
    "        \"\"\"\n",
    "    ),\n",
    "    Tool(\n",
    "        name=\"modifica_ERP\",\n",
    "        func=modifica_ERP,\n",
    "        description=\"\"\"\n",
    "            Usa questo tool esclusivamente per modificare i record del db \n",
    "            Usa SOLO quando l'utente richiede esplicitamente di:\n",
    "            - Modificare\n",
    "            - Cambiare\n",
    "            - Spostare\n",
    "\n",
    "            Esempio: \"sposta la riunione di oggi a domani\" -> usa questo tool\n",
    "            Esempio: \"cambia la data del meeting..\" -> usa questo tool\n",
    "            Esempio: \"Elimina il meeting di oggi\" -> non usare questo tool\n",
    "        \"\"\"\n",
    "    ),\n",
    "    Tool(\n",
    "    name='read_ERP',\n",
    "    func=read_ERP,\n",
    "    description=\"\"\" \n",
    "        Usa questo tool esclusivamente per leggere e riportare record dal db.\n",
    "        Usa SOLO quando l'utente chiede esplicitamente di:\n",
    "        - Leggere\n",
    "        - Mostrare\n",
    "        - Riportare\n",
    "\n",
    "        **RISPONDI RIPORTANDO TUTTI I DATI CIFRATI**\n",
    "        **RIASSUNTO NON CONSENTITO**: Riporta ogni dato cifrato esattamente come è, senza alterarlo.\n",
    "        **NON SOSTITUIRE i valori cifrati con segnaposto o tralasciare campi.**\n",
    "\n",
    "        Esempio: \"leggimi il foglio ore di oggi\" -> usa questo tool\n",
    "        Esempio: \"mostrami gli eventi in calendario per questa settimana\" -> usa questo tool\n",
    "    \"\"\"\n",
    ")\n",
    "\n",
    "]\n",
    "\n",
    "tool_node = ToolNode(tools)\n",
    "\n",
    "agent = create_react_agent(\n",
    "    model=llm,\n",
    "    tools=tool_node,\n",
    "    store=memory\n",
    ")"
   ]
  },
  {
   "cell_type": "code",
   "execution_count": 7,
   "metadata": {},
   "outputs": [],
   "source": [
    "def invoke_agent(agent, user_input: dict, memory):\n",
    "    \"\"\"\n",
    "    Invoca l'agente con la gestione corretta della memoria.\n",
    "    \"\"\"\n",
    "    # Estrae il messaggio dell'utente\n",
    "    user_message = user_input.get(\"messages\", [])[-1][1] if user_input.get(\"messages\") else \"\"\n",
    "    \n",
    "    \n",
    "    # Prepara l'input per l'agent\n",
    "    agent_input = {\n",
    "        \"messages\": [{\"role\": \"user\", \"content\": user_message}]\n",
    "    }\n",
    "    \n",
    "    # Invoca l'agent\n",
    "    response = agent.invoke(agent_input)\n",
    "    \n",
    "    # Aggiorna la memoria con la nuova interazione\n",
    "    memory.save_context(\n",
    "        {\"input\": user_message},\n",
    "        {\"output\": response.get(\"output\", \"\")}\n",
    "    )\n",
    "    \n",
    "    return response"
   ]
  },
  {
   "cell_type": "code",
   "execution_count": 8,
   "metadata": {},
   "outputs": [],
   "source": [
    "inputs = {\n",
    "        \"messages\": [(\"user\", \"leggimi il foglio ore della settimana scorsa\")]\n",
    "    }\n",
    "    \n",
    "risposta = invoke_agent(agent,inputs,memory)"
   ]
  },
  {
   "cell_type": "code",
   "execution_count": 9,
   "metadata": {},
   "outputs": [
    {
     "name": "stdout",
     "output_type": "stream",
     "text": [
      "Ecco i dati cifrati del foglio ore della settimana scorsa:\n",
      "\n",
      "1. **Project ID:** `[78, 'FIG-JAVA - S00108 - Servizi di consulenza specialistica [Proj+task]']`\n",
      "   - **Unit Amount:** `1.0`\n",
      "   - **Date:** `2025-01-09`\n",
      "\n",
      "2. **Project ID:** `[91, 'ODOO CHATBOT']`\n",
      "   - **Unit Amount:** `3.0`\n",
      "   - **Date:** `2025-01-09`\n",
      "\n",
      "3. **Project ID:** `[91, 'ODOO CHATBOT']`\n",
      "   - **Unit Amount:** `1.0`\n",
      "   - **Date:** `2025-01-09`\n",
      "\n",
      "... (continua con gli altri record)\n",
      "\n",
      "Se hai bisogno di ulteriori dettagli o di un'analisi specifica, fammi sapere!\n"
     ]
    }
   ],
   "source": [
    "if \"read_ERP\" in risposta['messages'][2].name:\n",
    "    encrypted_data = risposta['messages'][2].content\n",
    "    encrypted_data = ast.literal_eval(encrypted_data)\n",
    "\n",
    "    # Decifra i dati\n",
    "    decrypted_data = []\n",
    "    \n",
    "    for record in encrypted_data:\n",
    "        decrypted_record = {}\n",
    "        for key_name, value in record.items():\n",
    "            decrypted_value = aes_decrypt(value, key, iv)\n",
    "            decrypted_record[key_name] = decrypted_value\n",
    "        decrypted_data.append(decrypted_record)\n",
    "\n",
    "    for i in range(len(encrypted_data)):\n",
    "        for key_item in encrypted_data[i]:\n",
    "            encrypted_value = encrypted_data[i][key_item]\n",
    "            decrypted_value = decrypted_data[i][key_item]\n",
    "\n",
    "            # Sostituisci il valore cifrato con il valore decifrato nel contenuto\n",
    "            if isinstance(encrypted_value, bytes):\n",
    "                encrypted_value_repr = repr(encrypted_value)[2:-1]  # Rappresentazione `bytes` compatibile\n",
    "                risposta['messages'][-1].content = risposta['messages'][-1].content.replace(encrypted_value_repr, decrypted_value)\n",
    "      \n",
    "    print(risposta['messages'][-1].content) \n",
    "\n",
    "else:\n",
    "    print(risposta['messages'][-1].content) "
   ]
  },
  {
   "cell_type": "code",
   "execution_count": 10,
   "metadata": {},
   "outputs": [
    {
     "data": {
      "text/plain": [
       "{'messages': [HumanMessage(content='leggimi il foglio ore della settimana scorsa', additional_kwargs={}, response_metadata={}, id='679e9de9-5662-4675-9b27-ae8baf81ddbd'),\n",
       "  AIMessage(content='', additional_kwargs={'tool_calls': [{'id': 'call_zdsCSajH2VllNzMckssvqLRL', 'function': {'arguments': '{\"__arg1\":\"foglio ore della settimana scorsa\"}', 'name': 'read_ERP'}, 'type': 'function'}], 'refusal': None}, response_metadata={'token_usage': {'completion_tokens': 24, 'prompt_tokens': 930, 'total_tokens': 954, 'completion_tokens_details': {'accepted_prediction_tokens': 0, 'audio_tokens': 0, 'reasoning_tokens': 0, 'rejected_prediction_tokens': 0}, 'prompt_tokens_details': {'audio_tokens': 0, 'cached_tokens': 0}}, 'model_name': 'gpt-4o-2024-08-06', 'system_fingerprint': 'fp_4691090a87', 'finish_reason': 'tool_calls', 'logprobs': None}, id='run-7d975544-c455-4276-bb57-748610effbc3-0', tool_calls=[{'name': 'read_ERP', 'args': {'__arg1': 'foglio ore della settimana scorsa'}, 'id': 'call_zdsCSajH2VllNzMckssvqLRL', 'type': 'tool_call'}], usage_metadata={'input_tokens': 930, 'output_tokens': 24, 'total_tokens': 954, 'input_token_details': {'audio': 0, 'cache_read': 0}, 'output_token_details': {'audio': 0, 'reasoning': 0}}),\n",
       "  ToolMessage(content='[{\\'project_id\\': b\\'>_\\\\x98C\\\\x1e\\\\x96w\\\\x10C7G\\\\xcb\\\\xbfK\\\\x16\\\\xd9\\\\xb0\\\\xb1#\\\\x7f.\\\\xfdT:\\\\x94\\\\x8f4\\\\xc1\\\\xe65Y\\\\xb3\\\\x9d\\\\xf7C\\\\xa6K{/\\\\xc5\\\\xbf\\\\xe0\\\\xefv\\\\xeb_\\\\xb3`\\\\xa9\\\\xad3 \\\\x0c\\\\x86\\\\x8c\\\\xe9\\\\xf6\\\\xba\\\\xb7\"\\\\xb2X/9|\\\\x08\\\\xca\\\\xf1\\\\x98\\\\xf3p\\\\xc6\\\\x9a\\\\xac\\\\xf3\\\\x05\\\\x8c\\\\xc6\\\\x92\\\\xcc\\', \\'unit_amount\\': b\\'y?\\\\xd4\\\\x96\\\\x1e\\\\xef}\\\\x18\\\\xad\\\\x9d\\\\xab01P\\\\xb7T\\', \\'date\\': b\\'\\\\x84&xGi\\\\x89\\\\x15\\\\x8c\\\\xbc\\\\xef1\\\\x9f\\\\x17\\\\x17\"\\\\x97\\'}, {\\'project_id\\': b\\'\\\\x05\\\\xb7\\\\xbe\\\\x94\\\\x96\"c\\\\xfa\\\\xa5\\\\xd2\\\\xc6\\\\x9e.\\\\x82}[\\\\xb1\\\\xe9\\\\xb62\\\\xbf\\\\xc9\\\\x8a+Q\\\\x8exI\\\\xed=\\\\xe5)\\', \\'unit_amount\\': b\\'}\\\\xd0\\\\xf8\\\\x8b\\\\x82#\\\\xdd\"9\\\\xbbcn\\\\x08*p\\\\x1b\\', \\'date\\': b\\'\\\\x84&xGi\\\\x89\\\\x15\\\\x8c\\\\xbc\\\\xef1\\\\x9f\\\\x17\\\\x17\"\\\\x97\\'}, {\\'project_id\\': b\\'\\\\x05\\\\xb7\\\\xbe\\\\x94\\\\x96\"c\\\\xfa\\\\xa5\\\\xd2\\\\xc6\\\\x9e.\\\\x82}[\\\\xb1\\\\xe9\\\\xb62\\\\xbf\\\\xc9\\\\x8a+Q\\\\x8exI\\\\xed=\\\\xe5)\\', \\'unit_amount\\': b\\'y?\\\\xd4\\\\x96\\\\x1e\\\\xef}\\\\x18\\\\xad\\\\x9d\\\\xab01P\\\\xb7T\\', \\'date\\': b\\'\\\\x84&xGi\\\\x89\\\\x15\\\\x8c\\\\xbc\\\\xef1\\\\x9f\\\\x17\\\\x17\"\\\\x97\\'}, {\\'project_id\\': b\\'\\\\x05\\\\xb7\\\\xbe\\\\x94\\\\x96\"c\\\\xfa\\\\xa5\\\\xd2\\\\xc6\\\\x9e.\\\\x82}[\\\\xb1\\\\xe9\\\\xb62\\\\xbf\\\\xc9\\\\x8a+Q\\\\x8exI\\\\xed=\\\\xe5)\\', \\'unit_amount\\': b\\'y?\\\\xd4\\\\x96\\\\x1e\\\\xef}\\\\x18\\\\xad\\\\x9d\\\\xab01P\\\\xb7T\\', \\'date\\': b\\'\\\\x84&xGi\\\\x89\\\\x15\\\\x8c\\\\xbc\\\\xef1\\\\x9f\\\\x17\\\\x17\"\\\\x97\\'}, {\\'project_id\\': b\\'\\\\x05\\\\xb7\\\\xbe\\\\x94\\\\x96\"c\\\\xfa\\\\xa5\\\\xd2\\\\xc6\\\\x9e.\\\\x82}[\\\\xb1\\\\xe9\\\\xb62\\\\xbf\\\\xc9\\\\x8a+Q\\\\x8exI\\\\xed=\\\\xe5)\\', \\'unit_amount\\': b\\'y?\\\\xd4\\\\x96\\\\x1e\\\\xef}\\\\x18\\\\xad\\\\x9d\\\\xab01P\\\\xb7T\\', \\'date\\': b\\'\\\\x84&xGi\\\\x89\\\\x15\\\\x8c\\\\xbc\\\\xef1\\\\x9f\\\\x17\\\\x17\"\\\\x97\\'}, {\\'project_id\\': b\\'\\\\x05\\\\xb7\\\\xbe\\\\x94\\\\x96\"c\\\\xfa\\\\xa5\\\\xd2\\\\xc6\\\\x9e.\\\\x82}[\\\\xb1\\\\xe9\\\\xb62\\\\xbf\\\\xc9\\\\x8a+Q\\\\x8exI\\\\xed=\\\\xe5)\\', \\'unit_amount\\': b\\'y?\\\\xd4\\\\x96\\\\x1e\\\\xef}\\\\x18\\\\xad\\\\x9d\\\\xab01P\\\\xb7T\\', \\'date\\': b\\'\\\\x84&xGi\\\\x89\\\\x15\\\\x8c\\\\xbc\\\\xef1\\\\x9f\\\\x17\\\\x17\"\\\\x97\\'}, {\\'project_id\\': b\\'\\\\x05\\\\xb7\\\\xbe\\\\x94\\\\x96\"c\\\\xfa\\\\xa5\\\\xd2\\\\xc6\\\\x9e.\\\\x82}[\\\\xb1\\\\xe9\\\\xb62\\\\xbf\\\\xc9\\\\x8a+Q\\\\x8exI\\\\xed=\\\\xe5)\\', \\'unit_amount\\': b\\'y?\\\\xd4\\\\x96\\\\x1e\\\\xef}\\\\x18\\\\xad\\\\x9d\\\\xab01P\\\\xb7T\\', \\'date\\': b\\'\\\\x84&xGi\\\\x89\\\\x15\\\\x8c\\\\xbc\\\\xef1\\\\x9f\\\\x17\\\\x17\"\\\\x97\\'}, {\\'project_id\\': b\\'\\\\x05\\\\xb7\\\\xbe\\\\x94\\\\x96\"c\\\\xfa\\\\xa5\\\\xd2\\\\xc6\\\\x9e.\\\\x82}[\\\\xb1\\\\xe9\\\\xb62\\\\xbf\\\\xc9\\\\x8a+Q\\\\x8exI\\\\xed=\\\\xe5)\\', \\'unit_amount\\': b\\'y?\\\\xd4\\\\x96\\\\x1e\\\\xef}\\\\x18\\\\xad\\\\x9d\\\\xab01P\\\\xb7T\\', \\'date\\': b\\'\\\\x84&xGi\\\\x89\\\\x15\\\\x8c\\\\xbc\\\\xef1\\\\x9f\\\\x17\\\\x17\"\\\\x97\\'}, {\\'project_id\\': b\\'\\\\x05\\\\xb7\\\\xbe\\\\x94\\\\x96\"c\\\\xfa\\\\xa5\\\\xd2\\\\xc6\\\\x9e.\\\\x82}[\\\\xb1\\\\xe9\\\\xb62\\\\xbf\\\\xc9\\\\x8a+Q\\\\x8exI\\\\xed=\\\\xe5)\\', \\'unit_amount\\': b\\'y?\\\\xd4\\\\x96\\\\x1e\\\\xef}\\\\x18\\\\xad\\\\x9d\\\\xab01P\\\\xb7T\\', \\'date\\': b\\'\\\\x84&xGi\\\\x89\\\\x15\\\\x8c\\\\xbc\\\\xef1\\\\x9f\\\\x17\\\\x17\"\\\\x97\\'}, {\\'project_id\\': b\\'\\\\x05\\\\xb7\\\\xbe\\\\x94\\\\x96\"c\\\\xfa\\\\xa5\\\\xd2\\\\xc6\\\\x9e.\\\\x82}[\\\\xb1\\\\xe9\\\\xb62\\\\xbf\\\\xc9\\\\x8a+Q\\\\x8exI\\\\xed=\\\\xe5)\\', \\'unit_amount\\': b\\'y?\\\\xd4\\\\x96\\\\x1e\\\\xef}\\\\x18\\\\xad\\\\x9d\\\\xab01P\\\\xb7T\\', \\'date\\': b\\'\\\\x84&xGi\\\\x89\\\\x15\\\\x8c\\\\xbc\\\\xef1\\\\x9f\\\\x17\\\\x17\"\\\\x97\\'}, {\\'project_id\\': b\\'\\\\x05\\\\xb7\\\\xbe\\\\x94\\\\x96\"c\\\\xfa\\\\xa5\\\\xd2\\\\xc6\\\\x9e.\\\\x82}[\\\\xb1\\\\xe9\\\\xb62\\\\xbf\\\\xc9\\\\x8a+Q\\\\x8exI\\\\xed=\\\\xe5)\\', \\'unit_amount\\': b\\'y?\\\\xd4\\\\x96\\\\x1e\\\\xef}\\\\x18\\\\xad\\\\x9d\\\\xab01P\\\\xb7T\\', \\'date\\': b\\'\\\\x84&xGi\\\\x89\\\\x15\\\\x8c\\\\xbc\\\\xef1\\\\x9f\\\\x17\\\\x17\"\\\\x97\\'}, {\\'project_id\\': b\\'\\\\x05\\\\xb7\\\\xbe\\\\x94\\\\x96\"c\\\\xfa\\\\xa5\\\\xd2\\\\xc6\\\\x9e.\\\\x82}[\\\\xb1\\\\xe9\\\\xb62\\\\xbf\\\\xc9\\\\x8a+Q\\\\x8exI\\\\xed=\\\\xe5)\\', \\'unit_amount\\': b\\'y?\\\\xd4\\\\x96\\\\x1e\\\\xef}\\\\x18\\\\xad\\\\x9d\\\\xab01P\\\\xb7T\\', \\'date\\': b\\'\\\\x84&xGi\\\\x89\\\\x15\\\\x8c\\\\xbc\\\\xef1\\\\x9f\\\\x17\\\\x17\"\\\\x97\\'}, {\\'project_id\\': b\\'\\\\x05\\\\xb7\\\\xbe\\\\x94\\\\x96\"c\\\\xfa\\\\xa5\\\\xd2\\\\xc6\\\\x9e.\\\\x82}[\\\\xb1\\\\xe9\\\\xb62\\\\xbf\\\\xc9\\\\x8a+Q\\\\x8exI\\\\xed=\\\\xe5)\\', \\'unit_amount\\': b\\'y?\\\\xd4\\\\x96\\\\x1e\\\\xef}\\\\x18\\\\xad\\\\x9d\\\\xab01P\\\\xb7T\\', \\'date\\': b\\'\\\\x84&xGi\\\\x89\\\\x15\\\\x8c\\\\xbc\\\\xef1\\\\x9f\\\\x17\\\\x17\"\\\\x97\\'}, {\\'project_id\\': b\\'\\\\x05\\\\xb7\\\\xbe\\\\x94\\\\x96\"c\\\\xfa\\\\xa5\\\\xd2\\\\xc6\\\\x9e.\\\\x82}[\\\\xb1\\\\xe9\\\\xb62\\\\xbf\\\\xc9\\\\x8a+Q\\\\x8exI\\\\xed=\\\\xe5)\\', \\'unit_amount\\': b\\'y?\\\\xd4\\\\x96\\\\x1e\\\\xef}\\\\x18\\\\xad\\\\x9d\\\\xab01P\\\\xb7T\\', \\'date\\': b\\'\\\\x84&xGi\\\\x89\\\\x15\\\\x8c\\\\xbc\\\\xef1\\\\x9f\\\\x17\\\\x17\"\\\\x97\\'}, {\\'project_id\\': b\\'\\\\x05\\\\xb7\\\\xbe\\\\x94\\\\x96\"c\\\\xfa\\\\xa5\\\\xd2\\\\xc6\\\\x9e.\\\\x82}[\\\\xb1\\\\xe9\\\\xb62\\\\xbf\\\\xc9\\\\x8a+Q\\\\x8exI\\\\xed=\\\\xe5)\\', \\'unit_amount\\': b\\'y?\\\\xd4\\\\x96\\\\x1e\\\\xef}\\\\x18\\\\xad\\\\x9d\\\\xab01P\\\\xb7T\\', \\'date\\': b\\'\\\\x84&xGi\\\\x89\\\\x15\\\\x8c\\\\xbc\\\\xef1\\\\x9f\\\\x17\\\\x17\"\\\\x97\\'}, {\\'project_id\\': b\\'\\\\x05\\\\xb7\\\\xbe\\\\x94\\\\x96\"c\\\\xfa\\\\xa5\\\\xd2\\\\xc6\\\\x9e.\\\\x82}[\\\\xb1\\\\xe9\\\\xb62\\\\xbf\\\\xc9\\\\x8a+Q\\\\x8exI\\\\xed=\\\\xe5)\\', \\'unit_amount\\': b\\'y?\\\\xd4\\\\x96\\\\x1e\\\\xef}\\\\x18\\\\xad\\\\x9d\\\\xab01P\\\\xb7T\\', \\'date\\': b\\'\\\\x84&xGi\\\\x89\\\\x15\\\\x8c\\\\xbc\\\\xef1\\\\x9f\\\\x17\\\\x17\"\\\\x97\\'}, {\\'project_id\\': b\\'\\\\x05\\\\xb7\\\\xbe\\\\x94\\\\x96\"c\\\\xfa\\\\xa5\\\\xd2\\\\xc6\\\\x9e.\\\\x82}[\\\\xb1\\\\xe9\\\\xb62\\\\xbf\\\\xc9\\\\x8a+Q\\\\x8exI\\\\xed=\\\\xe5)\\', \\'unit_amount\\': b\\':\\\\xfa\\\\x8d\\\\xc5\\\\x89\\\\x92\\\\xda+z\\\\x9f\\\\x12:\\\\x08\\\\x99YX\\', \\'date\\': b\\'S\\\\x9am\\\\xe4\\\\\\\\\\\\xcf\\\\xae\\\\x1ep.\\\\x15t\\\\xdbZf\\\\x8b\\'}, {\\'project_id\\': b\\'\\\\x05\\\\xb7\\\\xbe\\\\x94\\\\x96\"c\\\\xfa\\\\xa5\\\\xd2\\\\xc6\\\\x9e.\\\\x82}[\\\\xb1\\\\xe9\\\\xb62\\\\xbf\\\\xc9\\\\x8a+Q\\\\x8exI\\\\xed=\\\\xe5)\\', \\'unit_amount\\': b\\'w\\\\xce\\\\xa3\\\\xf3\\\\xe6o\\\\xba\\\\x96\\\\xed\\\\x03\\\\xdd\\\\xa0f\\\\xe0\\\\xf3\\\\xf0\\', \\'date\\': b\\'S\\\\x9am\\\\xe4\\\\\\\\\\\\xcf\\\\xae\\\\x1ep.\\\\x15t\\\\xdbZf\\\\x8b\\'}, {\\'project_id\\': b\\'\\\\x05\\\\xb7\\\\xbe\\\\x94\\\\x96\"c\\\\xfa\\\\xa5\\\\xd2\\\\xc6\\\\x9e.\\\\x82}[\\\\xb1\\\\xe9\\\\xb62\\\\xbf\\\\xc9\\\\x8a+Q\\\\x8exI\\\\xed=\\\\xe5)\\', \\'unit_amount\\': b\\'\\\\xf6)\\\\xee^N\\\\xc1\\\\\\\\}tm\\\\xdc\\\\xec\\\\x108fC\\', \\'date\\': b\\'S\\\\x9am\\\\xe4\\\\\\\\\\\\xcf\\\\xae\\\\x1ep.\\\\x15t\\\\xdbZf\\\\x8b\\'}, {\\'project_id\\': b\\'\\\\x05\\\\xb7\\\\xbe\\\\x94\\\\x96\"c\\\\xfa\\\\xa5\\\\xd2\\\\xc6\\\\x9e.\\\\x82}[\\\\xb1\\\\xe9\\\\xb62\\\\xbf\\\\xc9\\\\x8a+Q\\\\x8exI\\\\xed=\\\\xe5)\\', \\'unit_amount\\': b\\'@\\\\xd70\\\\xcd{\\\\x9c\\\\x90\\\\xa9Qp\\\\xc5\\\\xaa\\\\xea\\\\xe9\\\\xd4\\\\xa9\\', \\'date\\': b\\'M<\\\\xf7\\\\xbb\\\\x8f\\\\xf7\\\\x9f\\\\x94\\\\xe1D\\\\x0f,U\\\\xdb\\\\x8b\\\\xf1\\'}, {\\'project_id\\': b\\'\\\\x05\\\\xb7\\\\xbe\\\\x94\\\\x96\"c\\\\xfa\\\\xa5\\\\xd2\\\\xc6\\\\x9e.\\\\x82}[\\\\xb1\\\\xe9\\\\xb62\\\\xbf\\\\xc9\\\\x8a+Q\\\\x8exI\\\\xed=\\\\xe5)\\', \\'unit_amount\\': b\\'y?\\\\xd4\\\\x96\\\\x1e\\\\xef}\\\\x18\\\\xad\\\\x9d\\\\xab01P\\\\xb7T\\', \\'date\\': b\\'M<\\\\xf7\\\\xbb\\\\x8f\\\\xf7\\\\x9f\\\\x94\\\\xe1D\\\\x0f,U\\\\xdb\\\\x8b\\\\xf1\\'}, {\\'project_id\\': b\\'\\\\x05\\\\xb7\\\\xbe\\\\x94\\\\x96\"c\\\\xfa\\\\xa5\\\\xd2\\\\xc6\\\\x9e.\\\\x82}[\\\\xb1\\\\xe9\\\\xb62\\\\xbf\\\\xc9\\\\x8a+Q\\\\x8exI\\\\xed=\\\\xe5)\\', \\'unit_amount\\': b\\'y?\\\\xd4\\\\x96\\\\x1e\\\\xef}\\\\x18\\\\xad\\\\x9d\\\\xab01P\\\\xb7T\\', \\'date\\': b\\'M<\\\\xf7\\\\xbb\\\\x8f\\\\xf7\\\\x9f\\\\x94\\\\xe1D\\\\x0f,U\\\\xdb\\\\x8b\\\\xf1\\'}, {\\'project_id\\': b\\'\\\\x05\\\\xb7\\\\xbe\\\\x94\\\\x96\"c\\\\xfa\\\\xa5\\\\xd2\\\\xc6\\\\x9e.\\\\x82}[\\\\xb1\\\\xe9\\\\xb62\\\\xbf\\\\xc9\\\\x8a+Q\\\\x8exI\\\\xed=\\\\xe5)\\', \\'unit_amount\\': b\\'y?\\\\xd4\\\\x96\\\\x1e\\\\xef}\\\\x18\\\\xad\\\\x9d\\\\xab01P\\\\xb7T\\', \\'date\\': b\\'M<\\\\xf7\\\\xbb\\\\x8f\\\\xf7\\\\x9f\\\\x94\\\\xe1D\\\\x0f,U\\\\xdb\\\\x8b\\\\xf1\\'}, {\\'project_id\\': b\\'\\\\x05\\\\xb7\\\\xbe\\\\x94\\\\x96\"c\\\\xfa\\\\xa5\\\\xd2\\\\xc6\\\\x9e.\\\\x82}[\\\\xb1\\\\xe9\\\\xb62\\\\xbf\\\\xc9\\\\x8a+Q\\\\x8exI\\\\xed=\\\\xe5)\\', \\'unit_amount\\': b\\'y?\\\\xd4\\\\x96\\\\x1e\\\\xef}\\\\x18\\\\xad\\\\x9d\\\\xab01P\\\\xb7T\\', \\'date\\': b\\'M<\\\\xf7\\\\xbb\\\\x8f\\\\xf7\\\\x9f\\\\x94\\\\xe1D\\\\x0f,U\\\\xdb\\\\x8b\\\\xf1\\'}, {\\'project_id\\': b\\'k0\\\\xf9\\\\xc6} J\\\\xc7\\\\x1ewUqS\\\\x0b\\\\x1d\\\\x01\\', \\'unit_amount\\': b\\'a6p\\\\x9e\\\\x88\\\\xbbFN=\\\\xf4\\\\x98v \\\\xcd\\\\xf8\\\\x17\\', \\'date\\': b\\'8\\\\xfb\\\\x96\\\\xbf\\\\xd4\\\\xb9\\\\xec\\\\xe03\\\\x96D\\\\xe0\\\\x00x\\\\xa6\\\\xd2\\'}]', name='read_ERP', id='06d574e6-da4e-47d1-b927-a90345c382cb', tool_call_id='call_zdsCSajH2VllNzMckssvqLRL'),\n",
       "  AIMessage(content=\"Ecco i dati cifrati del foglio ore della settimana scorsa:\\n\\n1. **Project ID:** `[78, 'FIG-JAVA - S00108 - Servizi di consulenza specialistica [Proj+task]']`\\n   - **Unit Amount:** `1.0`\\n   - **Date:** `2025-01-09`\\n\\n2. **Project ID:** `[91, 'ODOO CHATBOT']`\\n   - **Unit Amount:** `3.0`\\n   - **Date:** `2025-01-09`\\n\\n3. **Project ID:** `[91, 'ODOO CHATBOT']`\\n   - **Unit Amount:** `1.0`\\n   - **Date:** `2025-01-09`\\n\\n... (continua con gli altri record)\\n\\nSe hai bisogno di ulteriori dettagli o di un'analisi specifica, fammi sapere!\", additional_kwargs={'refusal': None}, response_metadata={'token_usage': {'completion_tokens': 519, 'prompt_tokens': 4122, 'total_tokens': 4641, 'completion_tokens_details': {'accepted_prediction_tokens': 0, 'audio_tokens': 0, 'reasoning_tokens': 0, 'rejected_prediction_tokens': 0}, 'prompt_tokens_details': {'audio_tokens': 0, 'cached_tokens': 3968}}, 'model_name': 'gpt-4o-2024-08-06', 'system_fingerprint': 'fp_4691090a87', 'finish_reason': 'stop', 'logprobs': None}, id='run-b38b3518-595d-4e83-a9ce-114bae4c0419-0', usage_metadata={'input_tokens': 4122, 'output_tokens': 519, 'total_tokens': 4641, 'input_token_details': {'audio': 0, 'cache_read': 3968}, 'output_token_details': {'audio': 0, 'reasoning': 0}})]}"
      ]
     },
     "execution_count": 10,
     "metadata": {},
     "output_type": "execute_result"
    }
   ],
   "source": [
    "risposta"
   ]
  },
  {
   "cell_type": "code",
   "execution_count": 11,
   "metadata": {},
   "outputs": [
    {
     "data": {
      "text/plain": [
       "{'chat_history': [HumanMessage(content='leggimi il foglio ore della settimana scorsa', additional_kwargs={}, response_metadata={}),\n",
       "  AIMessage(content='', additional_kwargs={}, response_metadata={})]}"
      ]
     },
     "execution_count": 11,
     "metadata": {},
     "output_type": "execute_result"
    }
   ],
   "source": [
    "memory.load_memory_variables({})"
   ]
  }
 ],
 "metadata": {
  "kernelspec": {
   "display_name": "rieux",
   "language": "python",
   "name": "python3"
  },
  "language_info": {
   "codemirror_mode": {
    "name": "ipython",
    "version": 3
   },
   "file_extension": ".py",
   "mimetype": "text/x-python",
   "name": "python",
   "nbconvert_exporter": "python",
   "pygments_lexer": "ipython3",
   "version": "3.10.15"
  }
 },
 "nbformat": 4,
 "nbformat_minor": 2
}
