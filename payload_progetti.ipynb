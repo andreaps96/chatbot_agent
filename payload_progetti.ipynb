{
 "cells": [
  {
   "cell_type": "code",
   "execution_count": 2,
   "metadata": {},
   "outputs": [],
   "source": [
    "import requests\n",
    "import os\n",
    "from dotenv import load_dotenv\n",
    "from fuzzywuzzy import process\n",
    "from langchain.prompts import PromptTemplate\n",
    "from langchain_core.output_parsers import JsonOutputParser\n",
    "from langchain_openai import ChatOpenAI\n",
    "from datetime import datetime\n",
    "import pytz\n",
    "import pandas as pd"
   ]
  },
  {
   "cell_type": "code",
   "execution_count": 3,
   "metadata": {},
   "outputs": [],
   "source": [
    "load_dotenv()\n",
    "odoo_url = \"https://dev-unitiva.odoo.com/\"\n",
    "username = os.getenv(\"user\")\n",
    "pw = os.getenv('pw')\n",
    "db = os.getenv('db')\n",
    "api_key= os.getenv('openai_key')\n",
    "\n",
    "llm = ChatOpenAI(\n",
    "    api_key=api_key,\n",
    "    model='gpt-4o',\n",
    "    temperature=0\n",
    ")\n",
    "\n",
    "# Modelli che richiedono employee_id\n",
    "modelli_con_employee_id = [\n",
    "    \"hr.leave\",          # Richieste di ferie\n",
    "    \"hr.attendance\",     # Presenze giornaliere\n",
    "    \"hr.contract\",       # Contratti dipendenti\n",
    "    \"hr.expense\",        # Note spese\n",
    "    \"account.analytic.line\",  # Fogli ore legati ai dipendenti\n",
    "    \"hr.payslip\",        # Buste paga\n",
    "    \"hr.skill\",          # Competenze del dipendente\n",
    "    \"hr.employee.public\", # Record dipendenti pubblici (ridotto)\n",
    "]\n",
    "\n",
    "# Modelli che richiedono uid\n",
    "modelli_con_uid = [\n",
    "    \"res.users\",         # Dati relativi all'utente\n",
    "    \"calendar.event\",    # Eventi in calendario assegnati all'utente\n",
    "    \"mail.activity\",     # Attività pianificate dall'utente\n",
    "    \"res.partner\",       # Partner e contatti collegati all'utente\n",
    "    \"crm.lead\",          # Opportunità di vendita (CRM)\n",
    "    \"helpdesk.ticket\",  # Ticket di supporto assegnati\n",
    "    'project.project',\n",
    "    'project.task'\n",
    "]"
   ]
  },
  {
   "cell_type": "code",
   "execution_count": 4,
   "metadata": {},
   "outputs": [],
   "source": [
    "#METODO PER EFFETTURA AUTENTICAZIONE SU ODOO (OK)\n",
    "def autenticazione():\n",
    "    url_auth = f\"{odoo_url}/web/session/authenticate\"\n",
    "    payload_auth = {\n",
    "        \"jsonrpc\": \"2.0\",\n",
    "        \"params\": {\n",
    "            \"db\":db,\n",
    "            \"login\": username,\n",
    "            \"password\": pw\n",
    "        }\n",
    "    }\n",
    "    #effettua richiesta\n",
    "    session = requests.Session()\n",
    "    response_auth = session.post(url_auth, json=payload_auth)\n",
    "    response_auth.raise_for_status()\n",
    "    result = response_auth.json()\n",
    "    try:\n",
    "        uid = result['result']['uid']\n",
    "    except Exception as e:\n",
    "        return \"Autenticazione fallita\"\n",
    "    \n",
    "    return uid,session"
   ]
  },
  {
   "cell_type": "code",
   "execution_count": 11,
   "metadata": {},
   "outputs": [
    {
     "data": {
      "text/plain": [
       "[{'id': 2076, 'name': 'Analisi', 'project_id': [91, 'ODOO CHATBOT']}]"
      ]
     },
     "execution_count": 11,
     "metadata": {},
     "output_type": "execute_result"
    }
   ],
   "source": [
    "modello = 'project.task'\n",
    "filtro = []\n",
    "\n",
    "uid,sessione = autenticazione()\n",
    "\n",
    "\n",
    "filtro.append([\"user_ids\", \"=\", uid])\n",
    "filtro.append(['project_id', '=', 91])\n",
    "\n",
    "\n",
    "payload_read = {\n",
    "    \"jsonrpc\": \"2.0\",\n",
    "    \"method\": \"call\",\n",
    "    \"params\": {\n",
    "        \"model\": modello,\n",
    "        \"method\": \"search_read\",\n",
    "        \"args\": [filtro],\n",
    "        \"kwargs\": {\n",
    "            \"fields\": [\"name\",\"project_id\"]\n",
    "        }\n",
    "    },\n",
    "    \"id\": 0\n",
    "}\n",
    "\n",
    "url_read = f\"{odoo_url}/web/dataset/call_kw/{modello}/search_read\"\n",
    "response_read = sessione.post(url_read, json=payload_read)\n",
    "response_read.raise_for_status()\n",
    "result_read = response_read.json().get('result', [])\n",
    "result_read"
   ]
  },
  {
   "cell_type": "code",
   "execution_count": 12,
   "metadata": {},
   "outputs": [
    {
     "data": {
      "text/plain": [
       "{'jsonrpc': '2.0',\n",
       " 'method': 'call',\n",
       " 'params': {'model': 'project.task',\n",
       "  'method': 'search_read',\n",
       "  'args': [[['user_ids', '=', 66], ['project_id', '=', 91]]],\n",
       "  'kwargs': {'fields': ['name', 'project_id']}},\n",
       " 'id': 0}"
      ]
     },
     "execution_count": 12,
     "metadata": {},
     "output_type": "execute_result"
    }
   ],
   "source": [
    "payload_read"
   ]
  }
 ],
 "metadata": {
  "kernelspec": {
   "display_name": "rieux",
   "language": "python",
   "name": "python3"
  },
  "language_info": {
   "codemirror_mode": {
    "name": "ipython",
    "version": 3
   },
   "file_extension": ".py",
   "mimetype": "text/x-python",
   "name": "python",
   "nbconvert_exporter": "python",
   "pygments_lexer": "ipython3",
   "version": "3.10.15"
  }
 },
 "nbformat": 4,
 "nbformat_minor": 2
}
